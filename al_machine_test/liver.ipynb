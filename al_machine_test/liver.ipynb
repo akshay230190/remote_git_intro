{
 "cells": [
  {
   "cell_type": "markdown",
   "metadata": {},
   "source": [
    "# Analysis and Prediction-Indian Liver Patients."
   ]
  },
  {
   "cell_type": "raw",
   "metadata": {},
   "source": [
    "The dataset was downloaded from the UCI ML Repository.\n",
    "\n",
    "Here are the steps I'm going to perform:\n",
    "1) Data Analysis: This is in general looking at the data to figure out whats going on. Inspect the data: Check whether there is any missing data, irrelevant data and do a cleanup.\n",
    "2) Data Visualization:\n",
    "3) Feature selection.\n",
    "4) Search for any trends, relations & correlations.\n",
    "5) Draw an inference and predict whether the patient can be identified to be having liver disease or not"
   ]
  },
  {
   "cell_type": "code",
   "execution_count": 2,
   "metadata": {},
   "outputs": [],
   "source": [
    "#importing libraries required for rendering data ,analysing\n",
    "\n",
    "import numpy as np\n",
    "import pandas as pd\n",
    "import matplotlib.pyplot as plt\n",
    "import seaborn as sns\n",
    "%matplotlib inline\n",
    "from sklearn.preprocessing import LabelEncoder\n",
    "\n",
    "import warnings\n",
    "warnings.simplefilter(\"ignore\")\n"
   ]
  },
  {
   "cell_type": "markdown",
   "metadata": {},
   "source": [
    "# Data Analysis"
   ]
  },
  {
   "cell_type": "code",
   "execution_count": 67,
   "metadata": {},
   "outputs": [],
   "source": [
    "liver=pd.read_csv(\"datasets_2607_4342_indian_liver_patient.csv\")\n"
   ]
  },
  {
   "cell_type": "markdown",
   "metadata": {},
   "source": [
    "This data set contains 416 liver patient records and 167 non liver patient records collected from North East of Andhra Pradesh, India. The \"Dataset\" column is a class label used to divide groups into liver patient (liver disease) or not (no disease). "
   ]
  },
  {
   "cell_type": "code",
   "execution_count": 68,
   "metadata": {},
   "outputs": [
    {
     "data": {
      "text/html": [
       "<div>\n",
       "<style scoped>\n",
       "    .dataframe tbody tr th:only-of-type {\n",
       "        vertical-align: middle;\n",
       "    }\n",
       "\n",
       "    .dataframe tbody tr th {\n",
       "        vertical-align: top;\n",
       "    }\n",
       "\n",
       "    .dataframe thead th {\n",
       "        text-align: right;\n",
       "    }\n",
       "</style>\n",
       "<table border=\"1\" class=\"dataframe\">\n",
       "  <thead>\n",
       "    <tr style=\"text-align: right;\">\n",
       "      <th></th>\n",
       "      <th>Age</th>\n",
       "      <th>Gender</th>\n",
       "      <th>Total_Bilirubin</th>\n",
       "      <th>Direct_Bilirubin</th>\n",
       "      <th>Alkaline_Phosphotase</th>\n",
       "      <th>Alamine_Aminotransferase</th>\n",
       "      <th>Aspartate_Aminotransferase</th>\n",
       "      <th>Total_Protiens</th>\n",
       "      <th>Albumin</th>\n",
       "      <th>Albumin_and_Globulin_Ratio</th>\n",
       "      <th>Dataset</th>\n",
       "    </tr>\n",
       "  </thead>\n",
       "  <tbody>\n",
       "    <tr>\n",
       "      <td>0</td>\n",
       "      <td>65</td>\n",
       "      <td>Female</td>\n",
       "      <td>0.7</td>\n",
       "      <td>0.1</td>\n",
       "      <td>187</td>\n",
       "      <td>16</td>\n",
       "      <td>18</td>\n",
       "      <td>6.8</td>\n",
       "      <td>3.3</td>\n",
       "      <td>0.90</td>\n",
       "      <td>1</td>\n",
       "    </tr>\n",
       "    <tr>\n",
       "      <td>1</td>\n",
       "      <td>62</td>\n",
       "      <td>Male</td>\n",
       "      <td>10.9</td>\n",
       "      <td>5.5</td>\n",
       "      <td>699</td>\n",
       "      <td>64</td>\n",
       "      <td>100</td>\n",
       "      <td>7.5</td>\n",
       "      <td>3.2</td>\n",
       "      <td>0.74</td>\n",
       "      <td>1</td>\n",
       "    </tr>\n",
       "    <tr>\n",
       "      <td>2</td>\n",
       "      <td>62</td>\n",
       "      <td>Male</td>\n",
       "      <td>7.3</td>\n",
       "      <td>4.1</td>\n",
       "      <td>490</td>\n",
       "      <td>60</td>\n",
       "      <td>68</td>\n",
       "      <td>7.0</td>\n",
       "      <td>3.3</td>\n",
       "      <td>0.89</td>\n",
       "      <td>1</td>\n",
       "    </tr>\n",
       "    <tr>\n",
       "      <td>3</td>\n",
       "      <td>58</td>\n",
       "      <td>Male</td>\n",
       "      <td>1.0</td>\n",
       "      <td>0.4</td>\n",
       "      <td>182</td>\n",
       "      <td>14</td>\n",
       "      <td>20</td>\n",
       "      <td>6.8</td>\n",
       "      <td>3.4</td>\n",
       "      <td>1.00</td>\n",
       "      <td>1</td>\n",
       "    </tr>\n",
       "    <tr>\n",
       "      <td>4</td>\n",
       "      <td>72</td>\n",
       "      <td>Male</td>\n",
       "      <td>3.9</td>\n",
       "      <td>2.0</td>\n",
       "      <td>195</td>\n",
       "      <td>27</td>\n",
       "      <td>59</td>\n",
       "      <td>7.3</td>\n",
       "      <td>2.4</td>\n",
       "      <td>0.40</td>\n",
       "      <td>1</td>\n",
       "    </tr>\n",
       "  </tbody>\n",
       "</table>\n",
       "</div>"
      ],
      "text/plain": [
       "   Age  Gender  Total_Bilirubin  Direct_Bilirubin  Alkaline_Phosphotase  \\\n",
       "0   65  Female              0.7               0.1                   187   \n",
       "1   62    Male             10.9               5.5                   699   \n",
       "2   62    Male              7.3               4.1                   490   \n",
       "3   58    Male              1.0               0.4                   182   \n",
       "4   72    Male              3.9               2.0                   195   \n",
       "\n",
       "   Alamine_Aminotransferase  Aspartate_Aminotransferase  Total_Protiens  \\\n",
       "0                        16                          18             6.8   \n",
       "1                        64                         100             7.5   \n",
       "2                        60                          68             7.0   \n",
       "3                        14                          20             6.8   \n",
       "4                        27                          59             7.3   \n",
       "\n",
       "   Albumin  Albumin_and_Globulin_Ratio  Dataset  \n",
       "0      3.3                        0.90        1  \n",
       "1      3.2                        0.74        1  \n",
       "2      3.3                        0.89        1  \n",
       "3      3.4                        1.00        1  \n",
       "4      2.4                        0.40        1  "
      ]
     },
     "execution_count": 68,
     "metadata": {},
     "output_type": "execute_result"
    }
   ],
   "source": [
    "liver.head()"
   ]
  },
  {
   "cell_type": "code",
   "execution_count": 69,
   "metadata": {},
   "outputs": [
    {
     "name": "stdout",
     "output_type": "stream",
     "text": [
      "<class 'pandas.core.frame.DataFrame'>\n",
      "RangeIndex: 583 entries, 0 to 582\n",
      "Data columns (total 11 columns):\n",
      "Age                           583 non-null int64\n",
      "Gender                        583 non-null object\n",
      "Total_Bilirubin               583 non-null float64\n",
      "Direct_Bilirubin              583 non-null float64\n",
      "Alkaline_Phosphotase          583 non-null int64\n",
      "Alamine_Aminotransferase      583 non-null int64\n",
      "Aspartate_Aminotransferase    583 non-null int64\n",
      "Total_Protiens                583 non-null float64\n",
      "Albumin                       583 non-null float64\n",
      "Albumin_and_Globulin_Ratio    579 non-null float64\n",
      "Dataset                       583 non-null int64\n",
      "dtypes: float64(5), int64(5), object(1)\n",
      "memory usage: 50.2+ KB\n"
     ]
    }
   ],
   "source": [
    "liver.info()"
   ]
  },
  {
   "cell_type": "markdown",
   "metadata": {},
   "source": [
    "Here is the observation from the dataset:   \n",
    "1) Only gender is non-numeric veriable. All others are numeric.   \n",
    "2) There are 10 features and 1 output - dataset. Value 1 indicates that the patient has liver disease and 0 indicates the patient does not have liver disease. "
   ]
  },
  {
   "cell_type": "code",
   "execution_count": 70,
   "metadata": {},
   "outputs": [
    {
     "data": {
      "text/html": [
       "<div>\n",
       "<style scoped>\n",
       "    .dataframe tbody tr th:only-of-type {\n",
       "        vertical-align: middle;\n",
       "    }\n",
       "\n",
       "    .dataframe tbody tr th {\n",
       "        vertical-align: top;\n",
       "    }\n",
       "\n",
       "    .dataframe thead th {\n",
       "        text-align: right;\n",
       "    }\n",
       "</style>\n",
       "<table border=\"1\" class=\"dataframe\">\n",
       "  <thead>\n",
       "    <tr style=\"text-align: right;\">\n",
       "      <th></th>\n",
       "      <th>Age</th>\n",
       "      <th>Gender</th>\n",
       "      <th>Total_Bilirubin</th>\n",
       "      <th>Direct_Bilirubin</th>\n",
       "      <th>Alkaline_Phosphotase</th>\n",
       "      <th>Alamine_Aminotransferase</th>\n",
       "      <th>Aspartate_Aminotransferase</th>\n",
       "      <th>Total_Protiens</th>\n",
       "      <th>Albumin</th>\n",
       "      <th>Albumin_and_Globulin_Ratio</th>\n",
       "      <th>Dataset</th>\n",
       "    </tr>\n",
       "  </thead>\n",
       "  <tbody>\n",
       "    <tr>\n",
       "      <td>count</td>\n",
       "      <td>583.000000</td>\n",
       "      <td>583</td>\n",
       "      <td>583.000000</td>\n",
       "      <td>583.000000</td>\n",
       "      <td>583.000000</td>\n",
       "      <td>583.000000</td>\n",
       "      <td>583.000000</td>\n",
       "      <td>583.000000</td>\n",
       "      <td>583.000000</td>\n",
       "      <td>579.000000</td>\n",
       "      <td>583.000000</td>\n",
       "    </tr>\n",
       "    <tr>\n",
       "      <td>unique</td>\n",
       "      <td>NaN</td>\n",
       "      <td>2</td>\n",
       "      <td>NaN</td>\n",
       "      <td>NaN</td>\n",
       "      <td>NaN</td>\n",
       "      <td>NaN</td>\n",
       "      <td>NaN</td>\n",
       "      <td>NaN</td>\n",
       "      <td>NaN</td>\n",
       "      <td>NaN</td>\n",
       "      <td>NaN</td>\n",
       "    </tr>\n",
       "    <tr>\n",
       "      <td>top</td>\n",
       "      <td>NaN</td>\n",
       "      <td>Male</td>\n",
       "      <td>NaN</td>\n",
       "      <td>NaN</td>\n",
       "      <td>NaN</td>\n",
       "      <td>NaN</td>\n",
       "      <td>NaN</td>\n",
       "      <td>NaN</td>\n",
       "      <td>NaN</td>\n",
       "      <td>NaN</td>\n",
       "      <td>NaN</td>\n",
       "    </tr>\n",
       "    <tr>\n",
       "      <td>freq</td>\n",
       "      <td>NaN</td>\n",
       "      <td>441</td>\n",
       "      <td>NaN</td>\n",
       "      <td>NaN</td>\n",
       "      <td>NaN</td>\n",
       "      <td>NaN</td>\n",
       "      <td>NaN</td>\n",
       "      <td>NaN</td>\n",
       "      <td>NaN</td>\n",
       "      <td>NaN</td>\n",
       "      <td>NaN</td>\n",
       "    </tr>\n",
       "    <tr>\n",
       "      <td>mean</td>\n",
       "      <td>44.746141</td>\n",
       "      <td>NaN</td>\n",
       "      <td>3.298799</td>\n",
       "      <td>1.486106</td>\n",
       "      <td>290.576329</td>\n",
       "      <td>80.713551</td>\n",
       "      <td>109.910806</td>\n",
       "      <td>6.483190</td>\n",
       "      <td>3.141852</td>\n",
       "      <td>0.947064</td>\n",
       "      <td>1.286449</td>\n",
       "    </tr>\n",
       "    <tr>\n",
       "      <td>std</td>\n",
       "      <td>16.189833</td>\n",
       "      <td>NaN</td>\n",
       "      <td>6.209522</td>\n",
       "      <td>2.808498</td>\n",
       "      <td>242.937989</td>\n",
       "      <td>182.620356</td>\n",
       "      <td>288.918529</td>\n",
       "      <td>1.085451</td>\n",
       "      <td>0.795519</td>\n",
       "      <td>0.319592</td>\n",
       "      <td>0.452490</td>\n",
       "    </tr>\n",
       "    <tr>\n",
       "      <td>min</td>\n",
       "      <td>4.000000</td>\n",
       "      <td>NaN</td>\n",
       "      <td>0.400000</td>\n",
       "      <td>0.100000</td>\n",
       "      <td>63.000000</td>\n",
       "      <td>10.000000</td>\n",
       "      <td>10.000000</td>\n",
       "      <td>2.700000</td>\n",
       "      <td>0.900000</td>\n",
       "      <td>0.300000</td>\n",
       "      <td>1.000000</td>\n",
       "    </tr>\n",
       "    <tr>\n",
       "      <td>25%</td>\n",
       "      <td>33.000000</td>\n",
       "      <td>NaN</td>\n",
       "      <td>0.800000</td>\n",
       "      <td>0.200000</td>\n",
       "      <td>175.500000</td>\n",
       "      <td>23.000000</td>\n",
       "      <td>25.000000</td>\n",
       "      <td>5.800000</td>\n",
       "      <td>2.600000</td>\n",
       "      <td>0.700000</td>\n",
       "      <td>1.000000</td>\n",
       "    </tr>\n",
       "    <tr>\n",
       "      <td>50%</td>\n",
       "      <td>45.000000</td>\n",
       "      <td>NaN</td>\n",
       "      <td>1.000000</td>\n",
       "      <td>0.300000</td>\n",
       "      <td>208.000000</td>\n",
       "      <td>35.000000</td>\n",
       "      <td>42.000000</td>\n",
       "      <td>6.600000</td>\n",
       "      <td>3.100000</td>\n",
       "      <td>0.930000</td>\n",
       "      <td>1.000000</td>\n",
       "    </tr>\n",
       "    <tr>\n",
       "      <td>75%</td>\n",
       "      <td>58.000000</td>\n",
       "      <td>NaN</td>\n",
       "      <td>2.600000</td>\n",
       "      <td>1.300000</td>\n",
       "      <td>298.000000</td>\n",
       "      <td>60.500000</td>\n",
       "      <td>87.000000</td>\n",
       "      <td>7.200000</td>\n",
       "      <td>3.800000</td>\n",
       "      <td>1.100000</td>\n",
       "      <td>2.000000</td>\n",
       "    </tr>\n",
       "    <tr>\n",
       "      <td>max</td>\n",
       "      <td>90.000000</td>\n",
       "      <td>NaN</td>\n",
       "      <td>75.000000</td>\n",
       "      <td>19.700000</td>\n",
       "      <td>2110.000000</td>\n",
       "      <td>2000.000000</td>\n",
       "      <td>4929.000000</td>\n",
       "      <td>9.600000</td>\n",
       "      <td>5.500000</td>\n",
       "      <td>2.800000</td>\n",
       "      <td>2.000000</td>\n",
       "    </tr>\n",
       "  </tbody>\n",
       "</table>\n",
       "</div>"
      ],
      "text/plain": [
       "               Age Gender  Total_Bilirubin  Direct_Bilirubin  \\\n",
       "count   583.000000    583       583.000000        583.000000   \n",
       "unique         NaN      2              NaN               NaN   \n",
       "top            NaN   Male              NaN               NaN   \n",
       "freq           NaN    441              NaN               NaN   \n",
       "mean     44.746141    NaN         3.298799          1.486106   \n",
       "std      16.189833    NaN         6.209522          2.808498   \n",
       "min       4.000000    NaN         0.400000          0.100000   \n",
       "25%      33.000000    NaN         0.800000          0.200000   \n",
       "50%      45.000000    NaN         1.000000          0.300000   \n",
       "75%      58.000000    NaN         2.600000          1.300000   \n",
       "max      90.000000    NaN        75.000000         19.700000   \n",
       "\n",
       "        Alkaline_Phosphotase  Alamine_Aminotransferase  \\\n",
       "count             583.000000                583.000000   \n",
       "unique                   NaN                       NaN   \n",
       "top                      NaN                       NaN   \n",
       "freq                     NaN                       NaN   \n",
       "mean              290.576329                 80.713551   \n",
       "std               242.937989                182.620356   \n",
       "min                63.000000                 10.000000   \n",
       "25%               175.500000                 23.000000   \n",
       "50%               208.000000                 35.000000   \n",
       "75%               298.000000                 60.500000   \n",
       "max              2110.000000               2000.000000   \n",
       "\n",
       "        Aspartate_Aminotransferase  Total_Protiens     Albumin  \\\n",
       "count                   583.000000      583.000000  583.000000   \n",
       "unique                         NaN             NaN         NaN   \n",
       "top                            NaN             NaN         NaN   \n",
       "freq                           NaN             NaN         NaN   \n",
       "mean                    109.910806        6.483190    3.141852   \n",
       "std                     288.918529        1.085451    0.795519   \n",
       "min                      10.000000        2.700000    0.900000   \n",
       "25%                      25.000000        5.800000    2.600000   \n",
       "50%                      42.000000        6.600000    3.100000   \n",
       "75%                      87.000000        7.200000    3.800000   \n",
       "max                    4929.000000        9.600000    5.500000   \n",
       "\n",
       "        Albumin_and_Globulin_Ratio     Dataset  \n",
       "count                   579.000000  583.000000  \n",
       "unique                         NaN         NaN  \n",
       "top                            NaN         NaN  \n",
       "freq                           NaN         NaN  \n",
       "mean                      0.947064    1.286449  \n",
       "std                       0.319592    0.452490  \n",
       "min                       0.300000    1.000000  \n",
       "25%                       0.700000    1.000000  \n",
       "50%                       0.930000    1.000000  \n",
       "75%                       1.100000    2.000000  \n",
       "max                       2.800000    2.000000  "
      ]
     },
     "execution_count": 70,
     "metadata": {},
     "output_type": "execute_result"
    }
   ],
   "source": [
    "#Describe gives statistical information about NUMERICAL columns in the dataset\n",
    "liver.describe(include='all')\n",
    "#We can see that there are missing values for Albumin_and_Globulin_Ratio as only 579 entries have valid values indicating 4 missing values.\n",
    "#Gender has only 2 values - Male/Female"
   ]
  },
  {
   "cell_type": "code",
   "execution_count": 71,
   "metadata": {},
   "outputs": [
    {
     "data": {
      "text/plain": [
       "Index(['Age', 'Gender', 'Total_Bilirubin', 'Direct_Bilirubin',\n",
       "       'Alkaline_Phosphotase', 'Alamine_Aminotransferase',\n",
       "       'Aspartate_Aminotransferase', 'Total_Protiens', 'Albumin',\n",
       "       'Albumin_and_Globulin_Ratio', 'Dataset'],\n",
       "      dtype='object')"
      ]
     },
     "execution_count": 71,
     "metadata": {},
     "output_type": "execute_result"
    }
   ],
   "source": [
    "#Which features are available in the dataset?\n",
    "liver.columns"
   ]
  },
  {
   "cell_type": "code",
   "execution_count": 72,
   "metadata": {},
   "outputs": [
    {
     "data": {
      "text/plain": [
       "Age                           0\n",
       "Gender                        0\n",
       "Total_Bilirubin               0\n",
       "Direct_Bilirubin              0\n",
       "Alkaline_Phosphotase          0\n",
       "Alamine_Aminotransferase      0\n",
       "Aspartate_Aminotransferase    0\n",
       "Total_Protiens                0\n",
       "Albumin                       0\n",
       "Albumin_and_Globulin_Ratio    4\n",
       "Dataset                       0\n",
       "dtype: int64"
      ]
     },
     "execution_count": 72,
     "metadata": {},
     "output_type": "execute_result"
    }
   ],
   "source": [
    "#Check for any null values\n",
    "liver.isnull().sum()"
   ]
  },
  {
   "cell_type": "markdown",
   "metadata": {},
   "source": [
    "The only data that is null is the Albumin_and_Globulin_Ratio - Only 4 rows are null. Lets see whether this is an important feature"
   ]
  },
  {
   "cell_type": "markdown",
   "metadata": {},
   "source": [
    "# Data visulization"
   ]
  },
  {
   "cell_type": "code",
   "execution_count": 73,
   "metadata": {},
   "outputs": [
    {
     "name": "stdout",
     "output_type": "stream",
     "text": [
      "Number of patients diagnosed with liver disease:  416\n",
      "Number of patients not diagnosed with liver disease:  167\n"
     ]
    },
    {
     "data": {
      "image/png": "[encoded data removed]",
      "text/plain": [
       "<Figure size 432x288 with 1 Axes>"
      ]
     },
     "metadata": {
      "needs_background": "light"
     },
     "output_type": "display_data"
    }
   ],
   "source": [
    "sns.countplot(data=liver,x='Dataset',label='Count')\n",
    "LD,NLD=liver[\"Dataset\"].value_counts()\n",
    "print('Number of patients diagnosed with liver disease: ',LD)\n",
    "print('Number of patients not diagnosed with liver disease: ',NLD)"
   ]
  },
  {
   "cell_type": "code",
   "execution_count": 74,
   "metadata": {},
   "outputs": [
    {
     "name": "stdout",
     "output_type": "stream",
     "text": [
      "Number of patients diagnosed with liver disease:  441\n",
      "Number of patients not diagnosed with liver disease:  142\n"
     ]
    },
    {
     "data": {
      "image/png": "[encoded data removed]",
      "text/plain": [
       "<Figure size 432x288 with 1 Axes>"
      ]
     },
     "metadata": {
      "needs_background": "light"
     },
     "output_type": "display_data"
    }
   ],
   "source": [
    "sns.countplot(data=liver,x='Gender',label='Count')\n",
    "M,F=liver[\"Gender\"].value_counts()\n",
    "print('Number of patients diagnosed with liver disease: ',M)\n",
    "print('Number of patients not diagnosed with liver disease: ',F)"
   ]
  },
  {
   "cell_type": "code",
   "execution_count": 75,
   "metadata": {},
   "outputs": [
    {
     "data": {
      "text/plain": [
       "<seaborn.axisgrid.FacetGrid at 0x1a642d49208>"
      ]
     },
     "execution_count": 75,
     "metadata": {},
     "output_type": "execute_result"
    },
    {
     "data": {
      "image/png": "[encoded data removed]",
      "text/plain": [
       "<Figure size 407.125x360 with 1 Axes>"
      ]
     },
     "metadata": {
      "needs_background": "light"
     },
     "output_type": "display_data"
    }
   ],
   "source": [
    "sns.factorplot(x=\"Age\",y=\"Gender\",hue=\"Dataset\",data=liver)"
   ]
  },
  {
   "cell_type": "markdown",
   "metadata": {},
   "source": [
    "Age seems to be a factor for liver disease for both male and female genders"
   ]
  },
  {
   "cell_type": "code",
   "execution_count": 76,
   "metadata": {},
   "outputs": [
    {
     "data": {
      "text/html": [
       "<div>\n",
       "<style scoped>\n",
       "    .dataframe tbody tr th:only-of-type {\n",
       "        vertical-align: middle;\n",
       "    }\n",
       "\n",
       "    .dataframe tbody tr th {\n",
       "        vertical-align: top;\n",
       "    }\n",
       "\n",
       "    .dataframe thead th {\n",
       "        text-align: right;\n",
       "    }\n",
       "</style>\n",
       "<table border=\"1\" class=\"dataframe\">\n",
       "  <thead>\n",
       "    <tr style=\"text-align: right;\">\n",
       "      <th></th>\n",
       "      <th>Dataset</th>\n",
       "      <th>Gender</th>\n",
       "      <th>Age</th>\n",
       "    </tr>\n",
       "  </thead>\n",
       "  <tbody>\n",
       "    <tr>\n",
       "      <td>2</td>\n",
       "      <td>2</td>\n",
       "      <td>Female</td>\n",
       "      <td>50</td>\n",
       "    </tr>\n",
       "    <tr>\n",
       "      <td>3</td>\n",
       "      <td>2</td>\n",
       "      <td>Male</td>\n",
       "      <td>117</td>\n",
       "    </tr>\n",
       "    <tr>\n",
       "      <td>0</td>\n",
       "      <td>1</td>\n",
       "      <td>Female</td>\n",
       "      <td>92</td>\n",
       "    </tr>\n",
       "    <tr>\n",
       "      <td>1</td>\n",
       "      <td>1</td>\n",
       "      <td>Male</td>\n",
       "      <td>324</td>\n",
       "    </tr>\n",
       "  </tbody>\n",
       "</table>\n",
       "</div>"
      ],
      "text/plain": [
       "   Dataset  Gender  Age\n",
       "2        2  Female   50\n",
       "3        2    Male  117\n",
       "0        1  Female   92\n",
       "1        1    Male  324"
      ]
     },
     "execution_count": 76,
     "metadata": {},
     "output_type": "execute_result"
    }
   ],
   "source": [
    "liver[['Gender','Dataset','Age']].groupby(['Dataset','Gender'],as_index=False).count().sort_values(by=\"Dataset\",ascending=False)"
   ]
  },
  {
   "cell_type": "code",
   "execution_count": 77,
   "metadata": {},
   "outputs": [
    {
     "data": {
      "text/html": [
       "<div>\n",
       "<style scoped>\n",
       "    .dataframe tbody tr th:only-of-type {\n",
       "        vertical-align: middle;\n",
       "    }\n",
       "\n",
       "    .dataframe tbody tr th {\n",
       "        vertical-align: top;\n",
       "    }\n",
       "\n",
       "    .dataframe thead th {\n",
       "        text-align: right;\n",
       "    }\n",
       "</style>\n",
       "<table border=\"1\" class=\"dataframe\">\n",
       "  <thead>\n",
       "    <tr style=\"text-align: right;\">\n",
       "      <th></th>\n",
       "      <th>Dataset</th>\n",
       "      <th>Gender</th>\n",
       "      <th>Age</th>\n",
       "    </tr>\n",
       "  </thead>\n",
       "  <tbody>\n",
       "    <tr>\n",
       "      <td>2</td>\n",
       "      <td>2</td>\n",
       "      <td>Female</td>\n",
       "      <td>42.740000</td>\n",
       "    </tr>\n",
       "    <tr>\n",
       "      <td>3</td>\n",
       "      <td>2</td>\n",
       "      <td>Male</td>\n",
       "      <td>40.598291</td>\n",
       "    </tr>\n",
       "    <tr>\n",
       "      <td>0</td>\n",
       "      <td>1</td>\n",
       "      <td>Female</td>\n",
       "      <td>43.347826</td>\n",
       "    </tr>\n",
       "    <tr>\n",
       "      <td>1</td>\n",
       "      <td>1</td>\n",
       "      <td>Male</td>\n",
       "      <td>46.950617</td>\n",
       "    </tr>\n",
       "  </tbody>\n",
       "</table>\n",
       "</div>"
      ],
      "text/plain": [
       "   Dataset  Gender        Age\n",
       "2        2  Female  42.740000\n",
       "3        2    Male  40.598291\n",
       "0        1  Female  43.347826\n",
       "1        1    Male  46.950617"
      ]
     },
     "execution_count": 77,
     "metadata": {},
     "output_type": "execute_result"
    }
   ],
   "source": [
    "liver[['Gender','Dataset','Age']].groupby(['Dataset','Gender'],as_index=False).mean().sort_values(by=\"Dataset\",ascending=False)"
   ]
  },
  {
   "cell_type": "code",
   "execution_count": 78,
   "metadata": {},
   "outputs": [
    {
     "data": {
      "image/png": "[encoded data removed]",
      "text/plain": [
       "<Figure size 432x432 with 4 Axes>"
      ]
     },
     "metadata": {
      "needs_background": "light"
     },
     "output_type": "display_data"
    }
   ],
   "source": [
    "g=sns.FacetGrid(liver,col='Dataset',row=\"Gender\",margin_titles=True)\n",
    "g.map(plt.hist,\"Age\",color=\"Blue\")\n",
    "plt.subplots_adjust(top=0.9)\n",
    "g.fig.suptitle(\"Disease by Gender and Age\");"
   ]
  },
  {
   "cell_type": "code",
   "execution_count": 79,
   "metadata": {},
   "outputs": [
    {
     "data": {
      "image/png": "[encoded data removed]",
      "text/plain": [
       "<Figure size 432x432 with 4 Axes>"
      ]
     },
     "metadata": {
      "needs_background": "light"
     },
     "output_type": "display_data"
    }
   ],
   "source": [
    "g = sns.FacetGrid(liver, col=\"Gender\", row=\"Dataset\", margin_titles=True)\n",
    "g.map(plt.scatter,\"Direct_Bilirubin\", \"Total_Bilirubin\", edgecolor=\"w\")\n",
    "plt.subplots_adjust(top=0.9)"
   ]
  },
  {
   "cell_type": "markdown",
   "metadata": {},
   "source": [
    "There is linear relationship between Total_Protiens and Albumin and the gender. We have the possibility of removing one of this feature."
   ]
  },
  {
   "cell_type": "code",
   "execution_count": 80,
   "metadata": {},
   "outputs": [
    {
     "data": {
      "text/plain": [
       "<seaborn.axisgrid.JointGrid at 0x1a645eb7b48>"
      ]
     },
     "execution_count": 80,
     "metadata": {},
     "output_type": "execute_result"
    },
    {
     "data": {
      "image/png": "[encoded data removed]",
      "text/plain": [
       "<Figure size 432x432 with 3 Axes>"
      ]
     },
     "metadata": {
      "needs_background": "light"
     },
     "output_type": "display_data"
    }
   ],
   "source": [
    "sns.jointplot(\"Total_Protiens\", \"Albumin\", data=liver, kind=\"reg\")\n"
   ]
  },
  {
   "cell_type": "code",
   "execution_count": 81,
   "metadata": {},
   "outputs": [
    {
     "data": {
      "image/png": "[encoded data removed]",
      "text/plain": [
       "<Figure size 432x432 with 4 Axes>"
      ]
     },
     "metadata": {
      "needs_background": "light"
     },
     "output_type": "display_data"
    }
   ],
   "source": [
    "g = sns.FacetGrid(liver, col=\"Gender\", row=\"Dataset\", margin_titles=True)\n",
    "g.map(plt.scatter,\"Albumin\", \"Albumin_and_Globulin_Ratio\",  edgecolor=\"w\")\n",
    "plt.subplots_adjust(top=0.9)\n"
   ]
  },
  {
   "cell_type": "markdown",
   "metadata": {},
   "source": [
    "There is linear relationship between Albumin_and_Globulin_Ratio and Albumin. We have the possibility of removing one of this feature."
   ]
  },
  {
   "cell_type": "code",
   "execution_count": 82,
   "metadata": {},
   "outputs": [
    {
     "data": {
      "text/plain": [
       "<seaborn.axisgrid.JointGrid at 0x1a646030f48>"
      ]
     },
     "execution_count": 82,
     "metadata": {},
     "output_type": "execute_result"
    },
    {
     "data": {
      "image/png": "[encoded data removed]",
      "text/plain": [
       "<Figure size 432x432 with 3 Axes>"
      ]
     },
     "metadata": {
      "needs_background": "light"
     },
     "output_type": "display_data"
    }
   ],
   "source": [
    "sns.jointplot(\"Albumin_and_Globulin_Ratio\", \"Albumin\", data=liver, kind=\"reg\")"
   ]
  },
  {
   "cell_type": "code",
   "execution_count": 83,
   "metadata": {},
   "outputs": [
    {
     "data": {
      "image/png": "[encoded data removed]",
      "text/plain": [
       "<Figure size 432x432 with 4 Axes>"
      ]
     },
     "metadata": {
      "needs_background": "light"
     },
     "output_type": "display_data"
    }
   ],
   "source": [
    "g = sns.FacetGrid(liver, col=\"Gender\", row=\"Dataset\", margin_titles=True)\n",
    "g.map(plt.scatter,\"Albumin_and_Globulin_Ratio\", \"Total_Protiens\",  edgecolor=\"w\")\n",
    "plt.subplots_adjust(top=0.9)"
   ]
  },
  {
   "cell_type": "markdown",
   "metadata": {},
   "source": [
    "# Observation:"
   ]
  },
  {
   "cell_type": "raw",
   "metadata": {},
   "source": [
    "From the above jointplots and scatterplots, we find direct relationship between the following features:  \n",
    "Direct_Bilirubin & Total_Bilirubin  \n",
    "Aspartate_Aminotransferase & Alamine_Aminotransferase  \n",
    "Total_Protiens & Albumin  \n",
    "Albumin_and_Globulin_Ratio & Albumin  \n",
    "\n",
    "Hence, we can very well find that we can omit one of the features. I'm going to keep the follwing features:  \n",
    "Total_Bilirubin  \n",
    "Alamine_Aminotransferase  \n",
    "Total_Protiens  \n",
    "Albumin_and_Globulin_Ratio  \n",
    "Albumin  "
   ]
  },
  {
   "cell_type": "code",
   "execution_count": 84,
   "metadata": {},
   "outputs": [
    {
     "data": {
      "text/html": [
       "<div>\n",
       "<style scoped>\n",
       "    .dataframe tbody tr th:only-of-type {\n",
       "        vertical-align: middle;\n",
       "    }\n",
       "\n",
       "    .dataframe tbody tr th {\n",
       "        vertical-align: top;\n",
       "    }\n",
       "\n",
       "    .dataframe thead th {\n",
       "        text-align: right;\n",
       "    }\n",
       "</style>\n",
       "<table border=\"1\" class=\"dataframe\">\n",
       "  <thead>\n",
       "    <tr style=\"text-align: right;\">\n",
       "      <th></th>\n",
       "      <th>Age</th>\n",
       "      <th>Gender</th>\n",
       "      <th>Total_Bilirubin</th>\n",
       "      <th>Direct_Bilirubin</th>\n",
       "      <th>Alkaline_Phosphotase</th>\n",
       "      <th>Alamine_Aminotransferase</th>\n",
       "      <th>Aspartate_Aminotransferase</th>\n",
       "      <th>Total_Protiens</th>\n",
       "      <th>Albumin</th>\n",
       "      <th>Albumin_and_Globulin_Ratio</th>\n",
       "      <th>Dataset</th>\n",
       "    </tr>\n",
       "  </thead>\n",
       "  <tbody>\n",
       "    <tr>\n",
       "      <td>0</td>\n",
       "      <td>65</td>\n",
       "      <td>Female</td>\n",
       "      <td>0.7</td>\n",
       "      <td>0.1</td>\n",
       "      <td>187</td>\n",
       "      <td>16</td>\n",
       "      <td>18</td>\n",
       "      <td>6.8</td>\n",
       "      <td>3.3</td>\n",
       "      <td>0.90</td>\n",
       "      <td>1</td>\n",
       "    </tr>\n",
       "    <tr>\n",
       "      <td>1</td>\n",
       "      <td>62</td>\n",
       "      <td>Male</td>\n",
       "      <td>10.9</td>\n",
       "      <td>5.5</td>\n",
       "      <td>699</td>\n",
       "      <td>64</td>\n",
       "      <td>100</td>\n",
       "      <td>7.5</td>\n",
       "      <td>3.2</td>\n",
       "      <td>0.74</td>\n",
       "      <td>1</td>\n",
       "    </tr>\n",
       "    <tr>\n",
       "      <td>2</td>\n",
       "      <td>62</td>\n",
       "      <td>Male</td>\n",
       "      <td>7.3</td>\n",
       "      <td>4.1</td>\n",
       "      <td>490</td>\n",
       "      <td>60</td>\n",
       "      <td>68</td>\n",
       "      <td>7.0</td>\n",
       "      <td>3.3</td>\n",
       "      <td>0.89</td>\n",
       "      <td>1</td>\n",
       "    </tr>\n",
       "  </tbody>\n",
       "</table>\n",
       "</div>"
      ],
      "text/plain": [
       "   Age  Gender  Total_Bilirubin  Direct_Bilirubin  Alkaline_Phosphotase  \\\n",
       "0   65  Female              0.7               0.1                   187   \n",
       "1   62    Male             10.9               5.5                   699   \n",
       "2   62    Male              7.3               4.1                   490   \n",
       "\n",
       "   Alamine_Aminotransferase  Aspartate_Aminotransferase  Total_Protiens  \\\n",
       "0                        16                          18             6.8   \n",
       "1                        64                         100             7.5   \n",
       "2                        60                          68             7.0   \n",
       "\n",
       "   Albumin  Albumin_and_Globulin_Ratio  Dataset  \n",
       "0      3.3                        0.90        1  \n",
       "1      3.2                        0.74        1  \n",
       "2      3.3                        0.89        1  "
      ]
     },
     "execution_count": 84,
     "metadata": {},
     "output_type": "execute_result"
    }
   ],
   "source": [
    "liver.head(3)"
   ]
  },
  {
   "cell_type": "markdown",
   "metadata": {},
   "source": [
    "Convert categorical variable \"Gender\" to indicator variables"
   ]
  },
  {
   "cell_type": "code",
   "execution_count": 85,
   "metadata": {},
   "outputs": [
    {
     "data": {
      "text/html": [
       "<div>\n",
       "<style scoped>\n",
       "    .dataframe tbody tr th:only-of-type {\n",
       "        vertical-align: middle;\n",
       "    }\n",
       "\n",
       "    .dataframe tbody tr th {\n",
       "        vertical-align: top;\n",
       "    }\n",
       "\n",
       "    .dataframe thead th {\n",
       "        text-align: right;\n",
       "    }\n",
       "</style>\n",
       "<table border=\"1\" class=\"dataframe\">\n",
       "  <thead>\n",
       "    <tr style=\"text-align: right;\">\n",
       "      <th></th>\n",
       "      <th>Gender_Female</th>\n",
       "      <th>Gender_Male</th>\n",
       "    </tr>\n",
       "  </thead>\n",
       "  <tbody>\n",
       "    <tr>\n",
       "      <td>0</td>\n",
       "      <td>1</td>\n",
       "      <td>0</td>\n",
       "    </tr>\n",
       "    <tr>\n",
       "      <td>1</td>\n",
       "      <td>0</td>\n",
       "      <td>1</td>\n",
       "    </tr>\n",
       "    <tr>\n",
       "      <td>2</td>\n",
       "      <td>0</td>\n",
       "      <td>1</td>\n",
       "    </tr>\n",
       "    <tr>\n",
       "      <td>3</td>\n",
       "      <td>0</td>\n",
       "      <td>1</td>\n",
       "    </tr>\n",
       "    <tr>\n",
       "      <td>4</td>\n",
       "      <td>0</td>\n",
       "      <td>1</td>\n",
       "    </tr>\n",
       "  </tbody>\n",
       "</table>\n",
       "</div>"
      ],
      "text/plain": [
       "   Gender_Female  Gender_Male\n",
       "0              1            0\n",
       "1              0            1\n",
       "2              0            1\n",
       "3              0            1\n",
       "4              0            1"
      ]
     },
     "execution_count": 85,
     "metadata": {},
     "output_type": "execute_result"
    }
   ],
   "source": [
    "pd.get_dummies(liver['Gender'],prefix=\"Gender\").head()"
   ]
  },
  {
   "cell_type": "code",
   "execution_count": 86,
   "metadata": {},
   "outputs": [],
   "source": [
    "liver = pd.concat([liver,pd.get_dummies(liver['Gender'], prefix = 'Gender')], axis=1)"
   ]
  },
  {
   "cell_type": "code",
   "execution_count": 87,
   "metadata": {},
   "outputs": [
    {
     "data": {
      "text/html": [
       "<div>\n",
       "<style scoped>\n",
       "    .dataframe tbody tr th:only-of-type {\n",
       "        vertical-align: middle;\n",
       "    }\n",
       "\n",
       "    .dataframe tbody tr th {\n",
       "        vertical-align: top;\n",
       "    }\n",
       "\n",
       "    .dataframe thead th {\n",
       "        text-align: right;\n",
       "    }\n",
       "</style>\n",
       "<table border=\"1\" class=\"dataframe\">\n",
       "  <thead>\n",
       "    <tr style=\"text-align: right;\">\n",
       "      <th></th>\n",
       "      <th>Age</th>\n",
       "      <th>Gender</th>\n",
       "      <th>Total_Bilirubin</th>\n",
       "      <th>Direct_Bilirubin</th>\n",
       "      <th>Alkaline_Phosphotase</th>\n",
       "      <th>Alamine_Aminotransferase</th>\n",
       "      <th>Aspartate_Aminotransferase</th>\n",
       "      <th>Total_Protiens</th>\n",
       "      <th>Albumin</th>\n",
       "      <th>Albumin_and_Globulin_Ratio</th>\n",
       "      <th>Dataset</th>\n",
       "      <th>Gender_Female</th>\n",
       "      <th>Gender_Male</th>\n",
       "    </tr>\n",
       "  </thead>\n",
       "  <tbody>\n",
       "    <tr>\n",
       "      <td>0</td>\n",
       "      <td>65</td>\n",
       "      <td>Female</td>\n",
       "      <td>0.7</td>\n",
       "      <td>0.1</td>\n",
       "      <td>187</td>\n",
       "      <td>16</td>\n",
       "      <td>18</td>\n",
       "      <td>6.8</td>\n",
       "      <td>3.3</td>\n",
       "      <td>0.90</td>\n",
       "      <td>1</td>\n",
       "      <td>1</td>\n",
       "      <td>0</td>\n",
       "    </tr>\n",
       "    <tr>\n",
       "      <td>1</td>\n",
       "      <td>62</td>\n",
       "      <td>Male</td>\n",
       "      <td>10.9</td>\n",
       "      <td>5.5</td>\n",
       "      <td>699</td>\n",
       "      <td>64</td>\n",
       "      <td>100</td>\n",
       "      <td>7.5</td>\n",
       "      <td>3.2</td>\n",
       "      <td>0.74</td>\n",
       "      <td>1</td>\n",
       "      <td>0</td>\n",
       "      <td>1</td>\n",
       "    </tr>\n",
       "    <tr>\n",
       "      <td>2</td>\n",
       "      <td>62</td>\n",
       "      <td>Male</td>\n",
       "      <td>7.3</td>\n",
       "      <td>4.1</td>\n",
       "      <td>490</td>\n",
       "      <td>60</td>\n",
       "      <td>68</td>\n",
       "      <td>7.0</td>\n",
       "      <td>3.3</td>\n",
       "      <td>0.89</td>\n",
       "      <td>1</td>\n",
       "      <td>0</td>\n",
       "      <td>1</td>\n",
       "    </tr>\n",
       "    <tr>\n",
       "      <td>3</td>\n",
       "      <td>58</td>\n",
       "      <td>Male</td>\n",
       "      <td>1.0</td>\n",
       "      <td>0.4</td>\n",
       "      <td>182</td>\n",
       "      <td>14</td>\n",
       "      <td>20</td>\n",
       "      <td>6.8</td>\n",
       "      <td>3.4</td>\n",
       "      <td>1.00</td>\n",
       "      <td>1</td>\n",
       "      <td>0</td>\n",
       "      <td>1</td>\n",
       "    </tr>\n",
       "    <tr>\n",
       "      <td>4</td>\n",
       "      <td>72</td>\n",
       "      <td>Male</td>\n",
       "      <td>3.9</td>\n",
       "      <td>2.0</td>\n",
       "      <td>195</td>\n",
       "      <td>27</td>\n",
       "      <td>59</td>\n",
       "      <td>7.3</td>\n",
       "      <td>2.4</td>\n",
       "      <td>0.40</td>\n",
       "      <td>1</td>\n",
       "      <td>0</td>\n",
       "      <td>1</td>\n",
       "    </tr>\n",
       "    <tr>\n",
       "      <td>...</td>\n",
       "      <td>...</td>\n",
       "      <td>...</td>\n",
       "      <td>...</td>\n",
       "      <td>...</td>\n",
       "      <td>...</td>\n",
       "      <td>...</td>\n",
       "      <td>...</td>\n",
       "      <td>...</td>\n",
       "      <td>...</td>\n",
       "      <td>...</td>\n",
       "      <td>...</td>\n",
       "      <td>...</td>\n",
       "      <td>...</td>\n",
       "    </tr>\n",
       "    <tr>\n",
       "      <td>578</td>\n",
       "      <td>60</td>\n",
       "      <td>Male</td>\n",
       "      <td>0.5</td>\n",
       "      <td>0.1</td>\n",
       "      <td>500</td>\n",
       "      <td>20</td>\n",
       "      <td>34</td>\n",
       "      <td>5.9</td>\n",
       "      <td>1.6</td>\n",
       "      <td>0.37</td>\n",
       "      <td>2</td>\n",
       "      <td>0</td>\n",
       "      <td>1</td>\n",
       "    </tr>\n",
       "    <tr>\n",
       "      <td>579</td>\n",
       "      <td>40</td>\n",
       "      <td>Male</td>\n",
       "      <td>0.6</td>\n",
       "      <td>0.1</td>\n",
       "      <td>98</td>\n",
       "      <td>35</td>\n",
       "      <td>31</td>\n",
       "      <td>6.0</td>\n",
       "      <td>3.2</td>\n",
       "      <td>1.10</td>\n",
       "      <td>1</td>\n",
       "      <td>0</td>\n",
       "      <td>1</td>\n",
       "    </tr>\n",
       "    <tr>\n",
       "      <td>580</td>\n",
       "      <td>52</td>\n",
       "      <td>Male</td>\n",
       "      <td>0.8</td>\n",
       "      <td>0.2</td>\n",
       "      <td>245</td>\n",
       "      <td>48</td>\n",
       "      <td>49</td>\n",
       "      <td>6.4</td>\n",
       "      <td>3.2</td>\n",
       "      <td>1.00</td>\n",
       "      <td>1</td>\n",
       "      <td>0</td>\n",
       "      <td>1</td>\n",
       "    </tr>\n",
       "    <tr>\n",
       "      <td>581</td>\n",
       "      <td>31</td>\n",
       "      <td>Male</td>\n",
       "      <td>1.3</td>\n",
       "      <td>0.5</td>\n",
       "      <td>184</td>\n",
       "      <td>29</td>\n",
       "      <td>32</td>\n",
       "      <td>6.8</td>\n",
       "      <td>3.4</td>\n",
       "      <td>1.00</td>\n",
       "      <td>1</td>\n",
       "      <td>0</td>\n",
       "      <td>1</td>\n",
       "    </tr>\n",
       "    <tr>\n",
       "      <td>582</td>\n",
       "      <td>38</td>\n",
       "      <td>Male</td>\n",
       "      <td>1.0</td>\n",
       "      <td>0.3</td>\n",
       "      <td>216</td>\n",
       "      <td>21</td>\n",
       "      <td>24</td>\n",
       "      <td>7.3</td>\n",
       "      <td>4.4</td>\n",
       "      <td>1.50</td>\n",
       "      <td>2</td>\n",
       "      <td>0</td>\n",
       "      <td>1</td>\n",
       "    </tr>\n",
       "  </tbody>\n",
       "</table>\n",
       "<p>583 rows × 13 columns</p>\n",
       "</div>"
      ],
      "text/plain": [
       "     Age  Gender  Total_Bilirubin  Direct_Bilirubin  Alkaline_Phosphotase  \\\n",
       "0     65  Female              0.7               0.1                   187   \n",
       "1     62    Male             10.9               5.5                   699   \n",
       "2     62    Male              7.3               4.1                   490   \n",
       "3     58    Male              1.0               0.4                   182   \n",
       "4     72    Male              3.9               2.0                   195   \n",
       "..   ...     ...              ...               ...                   ...   \n",
       "578   60    Male              0.5               0.1                   500   \n",
       "579   40    Male              0.6               0.1                    98   \n",
       "580   52    Male              0.8               0.2                   245   \n",
       "581   31    Male              1.3               0.5                   184   \n",
       "582   38    Male              1.0               0.3                   216   \n",
       "\n",
       "     Alamine_Aminotransferase  Aspartate_Aminotransferase  Total_Protiens  \\\n",
       "0                          16                          18             6.8   \n",
       "1                          64                         100             7.5   \n",
       "2                          60                          68             7.0   \n",
       "3                          14                          20             6.8   \n",
       "4                          27                          59             7.3   \n",
       "..                        ...                         ...             ...   \n",
       "578                        20                          34             5.9   \n",
       "579                        35                          31             6.0   \n",
       "580                        48                          49             6.4   \n",
       "581                        29                          32             6.8   \n",
       "582                        21                          24             7.3   \n",
       "\n",
       "     Albumin  Albumin_and_Globulin_Ratio  Dataset  Gender_Female  Gender_Male  \n",
       "0        3.3                        0.90        1              1            0  \n",
       "1        3.2                        0.74        1              0            1  \n",
       "2        3.3                        0.89        1              0            1  \n",
       "3        3.4                        1.00        1              0            1  \n",
       "4        2.4                        0.40        1              0            1  \n",
       "..       ...                         ...      ...            ...          ...  \n",
       "578      1.6                        0.37        2              0            1  \n",
       "579      3.2                        1.10        1              0            1  \n",
       "580      3.2                        1.00        1              0            1  \n",
       "581      3.4                        1.00        1              0            1  \n",
       "582      4.4                        1.50        2              0            1  \n",
       "\n",
       "[583 rows x 13 columns]"
      ]
     },
     "execution_count": 87,
     "metadata": {},
     "output_type": "execute_result"
    }
   ],
   "source": [
    "liver"
   ]
  },
  {
   "cell_type": "code",
   "execution_count": 89,
   "metadata": {},
   "outputs": [
    {
     "data": {
      "text/html": [
       "<div>\n",
       "<style scoped>\n",
       "    .dataframe tbody tr th:only-of-type {\n",
       "        vertical-align: middle;\n",
       "    }\n",
       "\n",
       "    .dataframe tbody tr th {\n",
       "        vertical-align: top;\n",
       "    }\n",
       "\n",
       "    .dataframe thead th {\n",
       "        text-align: right;\n",
       "    }\n",
       "</style>\n",
       "<table border=\"1\" class=\"dataframe\">\n",
       "  <thead>\n",
       "    <tr style=\"text-align: right;\">\n",
       "      <th></th>\n",
       "      <th>Age</th>\n",
       "      <th>Gender</th>\n",
       "      <th>Total_Bilirubin</th>\n",
       "      <th>Direct_Bilirubin</th>\n",
       "      <th>Alkaline_Phosphotase</th>\n",
       "      <th>Alamine_Aminotransferase</th>\n",
       "      <th>Aspartate_Aminotransferase</th>\n",
       "      <th>Total_Protiens</th>\n",
       "      <th>Albumin</th>\n",
       "      <th>Albumin_and_Globulin_Ratio</th>\n",
       "      <th>Dataset</th>\n",
       "      <th>Gender_Female</th>\n",
       "      <th>Gender_Male</th>\n",
       "    </tr>\n",
       "  </thead>\n",
       "  <tbody>\n",
       "    <tr>\n",
       "      <td>209</td>\n",
       "      <td>45</td>\n",
       "      <td>Female</td>\n",
       "      <td>0.9</td>\n",
       "      <td>0.3</td>\n",
       "      <td>189</td>\n",
       "      <td>23</td>\n",
       "      <td>33</td>\n",
       "      <td>6.6</td>\n",
       "      <td>3.9</td>\n",
       "      <td>NaN</td>\n",
       "      <td>1</td>\n",
       "      <td>1</td>\n",
       "      <td>0</td>\n",
       "    </tr>\n",
       "    <tr>\n",
       "      <td>241</td>\n",
       "      <td>51</td>\n",
       "      <td>Male</td>\n",
       "      <td>0.8</td>\n",
       "      <td>0.2</td>\n",
       "      <td>230</td>\n",
       "      <td>24</td>\n",
       "      <td>46</td>\n",
       "      <td>6.5</td>\n",
       "      <td>3.1</td>\n",
       "      <td>NaN</td>\n",
       "      <td>1</td>\n",
       "      <td>0</td>\n",
       "      <td>1</td>\n",
       "    </tr>\n",
       "    <tr>\n",
       "      <td>253</td>\n",
       "      <td>35</td>\n",
       "      <td>Female</td>\n",
       "      <td>0.6</td>\n",
       "      <td>0.2</td>\n",
       "      <td>180</td>\n",
       "      <td>12</td>\n",
       "      <td>15</td>\n",
       "      <td>5.2</td>\n",
       "      <td>2.7</td>\n",
       "      <td>NaN</td>\n",
       "      <td>2</td>\n",
       "      <td>1</td>\n",
       "      <td>0</td>\n",
       "    </tr>\n",
       "    <tr>\n",
       "      <td>312</td>\n",
       "      <td>27</td>\n",
       "      <td>Male</td>\n",
       "      <td>1.3</td>\n",
       "      <td>0.6</td>\n",
       "      <td>106</td>\n",
       "      <td>25</td>\n",
       "      <td>54</td>\n",
       "      <td>8.5</td>\n",
       "      <td>4.8</td>\n",
       "      <td>NaN</td>\n",
       "      <td>2</td>\n",
       "      <td>0</td>\n",
       "      <td>1</td>\n",
       "    </tr>\n",
       "  </tbody>\n",
       "</table>\n",
       "</div>"
      ],
      "text/plain": [
       "     Age  Gender  Total_Bilirubin  Direct_Bilirubin  Alkaline_Phosphotase  \\\n",
       "209   45  Female              0.9               0.3                   189   \n",
       "241   51    Male              0.8               0.2                   230   \n",
       "253   35  Female              0.6               0.2                   180   \n",
       "312   27    Male              1.3               0.6                   106   \n",
       "\n",
       "     Alamine_Aminotransferase  Aspartate_Aminotransferase  Total_Protiens  \\\n",
       "209                        23                          33             6.6   \n",
       "241                        24                          46             6.5   \n",
       "253                        12                          15             5.2   \n",
       "312                        25                          54             8.5   \n",
       "\n",
       "     Albumin  Albumin_and_Globulin_Ratio  Dataset  Gender_Female  Gender_Male  \n",
       "209      3.9                         NaN        1              1            0  \n",
       "241      3.1                         NaN        1              0            1  \n",
       "253      2.7                         NaN        2              1            0  \n",
       "312      4.8                         NaN        2              0            1  "
      ]
     },
     "execution_count": 89,
     "metadata": {},
     "output_type": "execute_result"
    }
   ],
   "source": [
    "liver[liver['Albumin_and_Globulin_Ratio'].isnull()]"
   ]
  },
  {
   "cell_type": "code",
   "execution_count": 91,
   "metadata": {},
   "outputs": [],
   "source": [
    "liver['Albumin_and_Globulin_Ratio']=liver.Albumin_and_Globulin_Ratio.fillna(liver['Albumin_and_Globulin_Ratio'].mean())"
   ]
  },
  {
   "cell_type": "code",
   "execution_count": 94,
   "metadata": {},
   "outputs": [
    {
     "data": {
      "text/html": [
       "<div>\n",
       "<style scoped>\n",
       "    .dataframe tbody tr th:only-of-type {\n",
       "        vertical-align: middle;\n",
       "    }\n",
       "\n",
       "    .dataframe tbody tr th {\n",
       "        vertical-align: top;\n",
       "    }\n",
       "\n",
       "    .dataframe thead th {\n",
       "        text-align: right;\n",
       "    }\n",
       "</style>\n",
       "<table border=\"1\" class=\"dataframe\">\n",
       "  <thead>\n",
       "    <tr style=\"text-align: right;\">\n",
       "      <th></th>\n",
       "      <th>Age</th>\n",
       "      <th>Total_Bilirubin</th>\n",
       "      <th>Direct_Bilirubin</th>\n",
       "      <th>Alkaline_Phosphotase</th>\n",
       "      <th>Alamine_Aminotransferase</th>\n",
       "      <th>Aspartate_Aminotransferase</th>\n",
       "      <th>Total_Protiens</th>\n",
       "      <th>Albumin</th>\n",
       "      <th>Albumin_and_Globulin_Ratio</th>\n",
       "      <th>Gender_Female</th>\n",
       "      <th>Gender_Male</th>\n",
       "    </tr>\n",
       "  </thead>\n",
       "  <tbody>\n",
       "    <tr>\n",
       "      <td>0</td>\n",
       "      <td>65</td>\n",
       "      <td>0.7</td>\n",
       "      <td>0.1</td>\n",
       "      <td>187</td>\n",
       "      <td>16</td>\n",
       "      <td>18</td>\n",
       "      <td>6.8</td>\n",
       "      <td>3.3</td>\n",
       "      <td>0.90</td>\n",
       "      <td>1</td>\n",
       "      <td>0</td>\n",
       "    </tr>\n",
       "    <tr>\n",
       "      <td>1</td>\n",
       "      <td>62</td>\n",
       "      <td>10.9</td>\n",
       "      <td>5.5</td>\n",
       "      <td>699</td>\n",
       "      <td>64</td>\n",
       "      <td>100</td>\n",
       "      <td>7.5</td>\n",
       "      <td>3.2</td>\n",
       "      <td>0.74</td>\n",
       "      <td>0</td>\n",
       "      <td>1</td>\n",
       "    </tr>\n",
       "    <tr>\n",
       "      <td>2</td>\n",
       "      <td>62</td>\n",
       "      <td>7.3</td>\n",
       "      <td>4.1</td>\n",
       "      <td>490</td>\n",
       "      <td>60</td>\n",
       "      <td>68</td>\n",
       "      <td>7.0</td>\n",
       "      <td>3.3</td>\n",
       "      <td>0.89</td>\n",
       "      <td>0</td>\n",
       "      <td>1</td>\n",
       "    </tr>\n",
       "    <tr>\n",
       "      <td>3</td>\n",
       "      <td>58</td>\n",
       "      <td>1.0</td>\n",
       "      <td>0.4</td>\n",
       "      <td>182</td>\n",
       "      <td>14</td>\n",
       "      <td>20</td>\n",
       "      <td>6.8</td>\n",
       "      <td>3.4</td>\n",
       "      <td>1.00</td>\n",
       "      <td>0</td>\n",
       "      <td>1</td>\n",
       "    </tr>\n",
       "    <tr>\n",
       "      <td>4</td>\n",
       "      <td>72</td>\n",
       "      <td>3.9</td>\n",
       "      <td>2.0</td>\n",
       "      <td>195</td>\n",
       "      <td>27</td>\n",
       "      <td>59</td>\n",
       "      <td>7.3</td>\n",
       "      <td>2.4</td>\n",
       "      <td>0.40</td>\n",
       "      <td>0</td>\n",
       "      <td>1</td>\n",
       "    </tr>\n",
       "  </tbody>\n",
       "</table>\n",
       "</div>"
      ],
      "text/plain": [
       "   Age  Total_Bilirubin  Direct_Bilirubin  Alkaline_Phosphotase  \\\n",
       "0   65              0.7               0.1                   187   \n",
       "1   62             10.9               5.5                   699   \n",
       "2   62              7.3               4.1                   490   \n",
       "3   58              1.0               0.4                   182   \n",
       "4   72              3.9               2.0                   195   \n",
       "\n",
       "   Alamine_Aminotransferase  Aspartate_Aminotransferase  Total_Protiens  \\\n",
       "0                        16                          18             6.8   \n",
       "1                        64                         100             7.5   \n",
       "2                        60                          68             7.0   \n",
       "3                        14                          20             6.8   \n",
       "4                        27                          59             7.3   \n",
       "\n",
       "   Albumin  Albumin_and_Globulin_Ratio  Gender_Female  Gender_Male  \n",
       "0      3.3                        0.90              1            0  \n",
       "1      3.2                        0.74              0            1  \n",
       "2      3.3                        0.89              0            1  \n",
       "3      3.4                        1.00              0            1  \n",
       "4      2.4                        0.40              0            1  "
      ]
     },
     "execution_count": 94,
     "metadata": {},
     "output_type": "execute_result"
    }
   ],
   "source": [
    "x=liver.drop(['Gender','Dataset'],axis=1)\n",
    "x.head()"
   ]
  },
  {
   "cell_type": "code",
   "execution_count": 95,
   "metadata": {},
   "outputs": [],
   "source": [
    "y=liver['Dataset']"
   ]
  },
  {
   "cell_type": "code",
   "execution_count": 97,
   "metadata": {},
   "outputs": [],
   "source": [
    "#correlation\n",
    "liver_corr=x.corr()"
   ]
  },
  {
   "cell_type": "code",
   "execution_count": 98,
   "metadata": {},
   "outputs": [
    {
     "data": {
      "text/html": [
       "<div>\n",
       "<style scoped>\n",
       "    .dataframe tbody tr th:only-of-type {\n",
       "        vertical-align: middle;\n",
       "    }\n",
       "\n",
       "    .dataframe tbody tr th {\n",
       "        vertical-align: top;\n",
       "    }\n",
       "\n",
       "    .dataframe thead th {\n",
       "        text-align: right;\n",
       "    }\n",
       "</style>\n",
       "<table border=\"1\" class=\"dataframe\">\n",
       "  <thead>\n",
       "    <tr style=\"text-align: right;\">\n",
       "      <th></th>\n",
       "      <th>Age</th>\n",
       "      <th>Total_Bilirubin</th>\n",
       "      <th>Direct_Bilirubin</th>\n",
       "      <th>Alkaline_Phosphotase</th>\n",
       "      <th>Alamine_Aminotransferase</th>\n",
       "      <th>Aspartate_Aminotransferase</th>\n",
       "      <th>Total_Protiens</th>\n",
       "      <th>Albumin</th>\n",
       "      <th>Albumin_and_Globulin_Ratio</th>\n",
       "      <th>Gender_Female</th>\n",
       "      <th>Gender_Male</th>\n",
       "    </tr>\n",
       "  </thead>\n",
       "  <tbody>\n",
       "    <tr>\n",
       "      <td>Age</td>\n",
       "      <td>1.000000</td>\n",
       "      <td>0.011763</td>\n",
       "      <td>0.007529</td>\n",
       "      <td>0.080425</td>\n",
       "      <td>-0.086883</td>\n",
       "      <td>-0.019910</td>\n",
       "      <td>-0.187461</td>\n",
       "      <td>-0.265924</td>\n",
       "      <td>-0.216089</td>\n",
       "      <td>-0.056560</td>\n",
       "      <td>0.056560</td>\n",
       "    </tr>\n",
       "    <tr>\n",
       "      <td>Total_Bilirubin</td>\n",
       "      <td>0.011763</td>\n",
       "      <td>1.000000</td>\n",
       "      <td>0.874618</td>\n",
       "      <td>0.206669</td>\n",
       "      <td>0.214065</td>\n",
       "      <td>0.237831</td>\n",
       "      <td>-0.008099</td>\n",
       "      <td>-0.222250</td>\n",
       "      <td>-0.206159</td>\n",
       "      <td>-0.089291</td>\n",
       "      <td>0.089291</td>\n",
       "    </tr>\n",
       "    <tr>\n",
       "      <td>Direct_Bilirubin</td>\n",
       "      <td>0.007529</td>\n",
       "      <td>0.874618</td>\n",
       "      <td>1.000000</td>\n",
       "      <td>0.234939</td>\n",
       "      <td>0.233894</td>\n",
       "      <td>0.257544</td>\n",
       "      <td>-0.000139</td>\n",
       "      <td>-0.228531</td>\n",
       "      <td>-0.200004</td>\n",
       "      <td>-0.100436</td>\n",
       "      <td>0.100436</td>\n",
       "    </tr>\n",
       "    <tr>\n",
       "      <td>Alkaline_Phosphotase</td>\n",
       "      <td>0.080425</td>\n",
       "      <td>0.206669</td>\n",
       "      <td>0.234939</td>\n",
       "      <td>1.000000</td>\n",
       "      <td>0.125680</td>\n",
       "      <td>0.167196</td>\n",
       "      <td>-0.028514</td>\n",
       "      <td>-0.165453</td>\n",
       "      <td>-0.233960</td>\n",
       "      <td>0.027496</td>\n",
       "      <td>-0.027496</td>\n",
       "    </tr>\n",
       "    <tr>\n",
       "      <td>Alamine_Aminotransferase</td>\n",
       "      <td>-0.086883</td>\n",
       "      <td>0.214065</td>\n",
       "      <td>0.233894</td>\n",
       "      <td>0.125680</td>\n",
       "      <td>1.000000</td>\n",
       "      <td>0.791966</td>\n",
       "      <td>-0.042518</td>\n",
       "      <td>-0.029742</td>\n",
       "      <td>-0.002374</td>\n",
       "      <td>-0.082332</td>\n",
       "      <td>0.082332</td>\n",
       "    </tr>\n",
       "    <tr>\n",
       "      <td>Aspartate_Aminotransferase</td>\n",
       "      <td>-0.019910</td>\n",
       "      <td>0.237831</td>\n",
       "      <td>0.257544</td>\n",
       "      <td>0.167196</td>\n",
       "      <td>0.791966</td>\n",
       "      <td>1.000000</td>\n",
       "      <td>-0.025645</td>\n",
       "      <td>-0.085290</td>\n",
       "      <td>-0.070024</td>\n",
       "      <td>-0.080336</td>\n",
       "      <td>0.080336</td>\n",
       "    </tr>\n",
       "    <tr>\n",
       "      <td>Total_Protiens</td>\n",
       "      <td>-0.187461</td>\n",
       "      <td>-0.008099</td>\n",
       "      <td>-0.000139</td>\n",
       "      <td>-0.028514</td>\n",
       "      <td>-0.042518</td>\n",
       "      <td>-0.025645</td>\n",
       "      <td>1.000000</td>\n",
       "      <td>0.784053</td>\n",
       "      <td>0.233904</td>\n",
       "      <td>0.089121</td>\n",
       "      <td>-0.089121</td>\n",
       "    </tr>\n",
       "    <tr>\n",
       "      <td>Albumin</td>\n",
       "      <td>-0.265924</td>\n",
       "      <td>-0.222250</td>\n",
       "      <td>-0.228531</td>\n",
       "      <td>-0.165453</td>\n",
       "      <td>-0.029742</td>\n",
       "      <td>-0.085290</td>\n",
       "      <td>0.784053</td>\n",
       "      <td>1.000000</td>\n",
       "      <td>0.686322</td>\n",
       "      <td>0.093799</td>\n",
       "      <td>-0.093799</td>\n",
       "    </tr>\n",
       "    <tr>\n",
       "      <td>Albumin_and_Globulin_Ratio</td>\n",
       "      <td>-0.216089</td>\n",
       "      <td>-0.206159</td>\n",
       "      <td>-0.200004</td>\n",
       "      <td>-0.233960</td>\n",
       "      <td>-0.002374</td>\n",
       "      <td>-0.070024</td>\n",
       "      <td>0.233904</td>\n",
       "      <td>0.686322</td>\n",
       "      <td>1.000000</td>\n",
       "      <td>0.003404</td>\n",
       "      <td>-0.003404</td>\n",
       "    </tr>\n",
       "    <tr>\n",
       "      <td>Gender_Female</td>\n",
       "      <td>-0.056560</td>\n",
       "      <td>-0.089291</td>\n",
       "      <td>-0.100436</td>\n",
       "      <td>0.027496</td>\n",
       "      <td>-0.082332</td>\n",
       "      <td>-0.080336</td>\n",
       "      <td>0.089121</td>\n",
       "      <td>0.093799</td>\n",
       "      <td>0.003404</td>\n",
       "      <td>1.000000</td>\n",
       "      <td>-1.000000</td>\n",
       "    </tr>\n",
       "    <tr>\n",
       "      <td>Gender_Male</td>\n",
       "      <td>0.056560</td>\n",
       "      <td>0.089291</td>\n",
       "      <td>0.100436</td>\n",
       "      <td>-0.027496</td>\n",
       "      <td>0.082332</td>\n",
       "      <td>0.080336</td>\n",
       "      <td>-0.089121</td>\n",
       "      <td>-0.093799</td>\n",
       "      <td>-0.003404</td>\n",
       "      <td>-1.000000</td>\n",
       "      <td>1.000000</td>\n",
       "    </tr>\n",
       "  </tbody>\n",
       "</table>\n",
       "</div>"
      ],
      "text/plain": [
       "                                 Age  Total_Bilirubin  Direct_Bilirubin  \\\n",
       "Age                         1.000000         0.011763          0.007529   \n",
       "Total_Bilirubin             0.011763         1.000000          0.874618   \n",
       "Direct_Bilirubin            0.007529         0.874618          1.000000   \n",
       "Alkaline_Phosphotase        0.080425         0.206669          0.234939   \n",
       "Alamine_Aminotransferase   -0.086883         0.214065          0.233894   \n",
       "Aspartate_Aminotransferase -0.019910         0.237831          0.257544   \n",
       "Total_Protiens             -0.187461        -0.008099         -0.000139   \n",
       "Albumin                    -0.265924        -0.222250         -0.228531   \n",
       "Albumin_and_Globulin_Ratio -0.216089        -0.206159         -0.200004   \n",
       "Gender_Female              -0.056560        -0.089291         -0.100436   \n",
       "Gender_Male                 0.056560         0.089291          0.100436   \n",
       "\n",
       "                            Alkaline_Phosphotase  Alamine_Aminotransferase  \\\n",
       "Age                                     0.080425                 -0.086883   \n",
       "Total_Bilirubin                         0.206669                  0.214065   \n",
       "Direct_Bilirubin                        0.234939                  0.233894   \n",
       "Alkaline_Phosphotase                    1.000000                  0.125680   \n",
       "Alamine_Aminotransferase                0.125680                  1.000000   \n",
       "Aspartate_Aminotransferase              0.167196                  0.791966   \n",
       "Total_Protiens                         -0.028514                 -0.042518   \n",
       "Albumin                                -0.165453                 -0.029742   \n",
       "Albumin_and_Globulin_Ratio             -0.233960                 -0.002374   \n",
       "Gender_Female                           0.027496                 -0.082332   \n",
       "Gender_Male                            -0.027496                  0.082332   \n",
       "\n",
       "                            Aspartate_Aminotransferase  Total_Protiens  \\\n",
       "Age                                          -0.019910       -0.187461   \n",
       "Total_Bilirubin                               0.237831       -0.008099   \n",
       "Direct_Bilirubin                              0.257544       -0.000139   \n",
       "Alkaline_Phosphotase                          0.167196       -0.028514   \n",
       "Alamine_Aminotransferase                      0.791966       -0.042518   \n",
       "Aspartate_Aminotransferase                    1.000000       -0.025645   \n",
       "Total_Protiens                               -0.025645        1.000000   \n",
       "Albumin                                      -0.085290        0.784053   \n",
       "Albumin_and_Globulin_Ratio                   -0.070024        0.233904   \n",
       "Gender_Female                                -0.080336        0.089121   \n",
       "Gender_Male                                   0.080336       -0.089121   \n",
       "\n",
       "                             Albumin  Albumin_and_Globulin_Ratio  \\\n",
       "Age                        -0.265924                   -0.216089   \n",
       "Total_Bilirubin            -0.222250                   -0.206159   \n",
       "Direct_Bilirubin           -0.228531                   -0.200004   \n",
       "Alkaline_Phosphotase       -0.165453                   -0.233960   \n",
       "Alamine_Aminotransferase   -0.029742                   -0.002374   \n",
       "Aspartate_Aminotransferase -0.085290                   -0.070024   \n",
       "Total_Protiens              0.784053                    0.233904   \n",
       "Albumin                     1.000000                    0.686322   \n",
       "Albumin_and_Globulin_Ratio  0.686322                    1.000000   \n",
       "Gender_Female               0.093799                    0.003404   \n",
       "Gender_Male                -0.093799                   -0.003404   \n",
       "\n",
       "                            Gender_Female  Gender_Male  \n",
       "Age                             -0.056560     0.056560  \n",
       "Total_Bilirubin                 -0.089291     0.089291  \n",
       "Direct_Bilirubin                -0.100436     0.100436  \n",
       "Alkaline_Phosphotase             0.027496    -0.027496  \n",
       "Alamine_Aminotransferase        -0.082332     0.082332  \n",
       "Aspartate_Aminotransferase      -0.080336     0.080336  \n",
       "Total_Protiens                   0.089121    -0.089121  \n",
       "Albumin                          0.093799    -0.093799  \n",
       "Albumin_and_Globulin_Ratio       0.003404    -0.003404  \n",
       "Gender_Female                    1.000000    -1.000000  \n",
       "Gender_Male                     -1.000000     1.000000  "
      ]
     },
     "execution_count": 98,
     "metadata": {},
     "output_type": "execute_result"
    }
   ],
   "source": [
    "liver_corr"
   ]
  },
  {
   "cell_type": "code",
   "execution_count": 99,
   "metadata": {},
   "outputs": [
    {
     "data": {
      "image/png": "[encoded data removed]",
      "text/plain": [
       "<Figure size 2160x2160 with 2 Axes>"
      ]
     },
     "metadata": {
      "needs_background": "light"
     },
     "output_type": "display_data"
    }
   ],
   "source": [
    "plt.figure(figsize=(30,30))\n",
    "sns.heatmap(liver_corr,cbar=True,square=True,annot=True,fmt='.2f',annot_kws={'size':15},cmap='coolwarm')\n",
    "plt.title('Correlation between feature ');"
   ]
  },
  {
   "cell_type": "code",
   "execution_count": 100,
   "metadata": {},
   "outputs": [],
   "source": [
    "#The above correlation also indicates the following correlation\n",
    "# Total_Protiens & Albumin\n",
    "# Alamine_Aminotransferase & Aspartate_Aminotransferase\n",
    "# Direct_Bilirubin & Total_Bilirubin\n",
    "# There is some correlation between Albumin_and_Globulin_Ratio and Albumin. But its not as high as Total_Protiens & Albumin\n"
   ]
  },
  {
   "cell_type": "markdown",
   "metadata": {},
   "source": [
    "# Machine Learning"
   ]
  },
  {
   "cell_type": "code",
   "execution_count": 104,
   "metadata": {},
   "outputs": [],
   "source": [
    "# Importing modules\n",
    "from sklearn.metrics import accuracy_score\n",
    "from sklearn.model_selection import train_test_split\n",
    "from sklearn.metrics import classification_report,confusion_matrix\n",
    "from sklearn import linear_model\n",
    "from sklearn.linear_model import LogisticRegression\n",
    "from sklearn.svm import SVC, LinearSVC\n",
    "from sklearn.ensemble import RandomForestClassifier, AdaBoostClassifier, BaggingClassifier\n",
    "from sklearn.neighbors import KNeighborsClassifier\n",
    "from sklearn.naive_bayes import GaussianNB\n",
    "from sklearn.linear_model import Perceptron\n",
    "from sklearn.linear_model import SGDClassifier\n",
    "from sklearn.tree import DecisionTreeClassifier\n",
    "from sklearn.neural_network import MLPClassifier"
   ]
  },
  {
   "cell_type": "code",
   "execution_count": 105,
   "metadata": {},
   "outputs": [
    {
     "name": "stdout",
     "output_type": "stream",
     "text": [
      "(408, 11)\n",
      "(408,)\n",
      "(175, 11)\n",
      "(175,)\n"
     ]
    }
   ],
   "source": [
    "X_train, X_test, y_train, y_test = train_test_split(x, y, test_size=0.30, random_state=101)\n",
    "print (X_train.shape)\n",
    "print (y_train.shape)\n",
    "print (X_test.shape)\n",
    "print (y_test.shape)"
   ]
  },
  {
   "cell_type": "code",
   "execution_count": 106,
   "metadata": {},
   "outputs": [
    {
     "name": "stdout",
     "output_type": "stream",
     "text": [
      "Logistic Regression Training Score: \n",
      " 73.53\n",
      "Logistic Regression Test Score: \n",
      " 66.29\n",
      "Coefficient: \n",
      " [[-0.01304235 -0.02761139 -0.4791812  -0.00099158 -0.01050006 -0.0030873\n",
      "  -0.20529654  0.21919205  0.66489666  0.46527453  0.23095844]]\n",
      "Intercept: \n",
      " [0.69623297]\n",
      "Accuracy: \n",
      " 0.6628571428571428\n",
      "Confusion Matrix: \n",
      " [[104  20]\n",
      " [ 39  12]]\n",
      "Classification Report: \n",
      "               precision    recall  f1-score   support\n",
      "\n",
      "           1       0.73      0.84      0.78       124\n",
      "           2       0.38      0.24      0.29        51\n",
      "\n",
      "    accuracy                           0.66       175\n",
      "   macro avg       0.55      0.54      0.53       175\n",
      "weighted avg       0.62      0.66      0.64       175\n",
      "\n"
     ]
    },
    {
     "data": {
      "text/plain": [
       "<matplotlib.axes._subplots.AxesSubplot at 0x1a647b1b788>"
      ]
     },
     "execution_count": 106,
     "metadata": {},
     "output_type": "execute_result"
    },
    {
     "data": {
      "image/png": "[encoded data removed]",
      "text/plain": [
       "<Figure size 432x288 with 2 Axes>"
      ]
     },
     "metadata": {
      "needs_background": "light"
     },
     "output_type": "display_data"
    }
   ],
   "source": [
    "#2) Logistic Regression\n",
    "# Create logistic regression object\n",
    "logreg = LogisticRegression()\n",
    "# Train the model using the training sets and check score\n",
    "logreg.fit(X_train, y_train)\n",
    "#Predict Output\n",
    "log_predicted= logreg.predict(X_test)\n",
    "\n",
    "logreg_score = round(logreg.score(X_train, y_train) * 100, 2)\n",
    "logreg_score_test = round(logreg.score(X_test, y_test) * 100, 2)\n",
    "#Equation coefficient and Intercept\n",
    "print('Logistic Regression Training Score: \\n', logreg_score)\n",
    "print('Logistic Regression Test Score: \\n', logreg_score_test)\n",
    "print('Coefficient: \\n', logreg.coef_)\n",
    "print('Intercept: \\n', logreg.intercept_)\n",
    "print('Accuracy: \\n', accuracy_score(y_test,log_predicted))\n",
    "print('Confusion Matrix: \\n', confusion_matrix(y_test,log_predicted))\n",
    "print('Classification Report: \\n', classification_report(y_test,log_predicted))\n",
    "\n",
    "sns.heatmap(confusion_matrix(y_test,log_predicted),annot=True,fmt=\"d\")"
   ]
  },
  {
   "cell_type": "code",
   "execution_count": 108,
   "metadata": {},
   "outputs": [
    {
     "data": {
      "text/html": [
       "<div>\n",
       "<style scoped>\n",
       "    .dataframe tbody tr th:only-of-type {\n",
       "        vertical-align: middle;\n",
       "    }\n",
       "\n",
       "    .dataframe tbody tr th {\n",
       "        vertical-align: top;\n",
       "    }\n",
       "\n",
       "    .dataframe thead th {\n",
       "        text-align: right;\n",
       "    }\n",
       "</style>\n",
       "<table border=\"1\" class=\"dataframe\">\n",
       "  <thead>\n",
       "    <tr style=\"text-align: right;\">\n",
       "      <th></th>\n",
       "      <th>Feature</th>\n",
       "      <th>Correlation</th>\n",
       "    </tr>\n",
       "  </thead>\n",
       "  <tbody>\n",
       "    <tr>\n",
       "      <td>8</td>\n",
       "      <td>Albumin_and_Globulin_Ratio</td>\n",
       "      <td>0.664897</td>\n",
       "    </tr>\n",
       "    <tr>\n",
       "      <td>9</td>\n",
       "      <td>Gender_Female</td>\n",
       "      <td>0.465275</td>\n",
       "    </tr>\n",
       "    <tr>\n",
       "      <td>10</td>\n",
       "      <td>Gender_Male</td>\n",
       "      <td>0.230958</td>\n",
       "    </tr>\n",
       "    <tr>\n",
       "      <td>7</td>\n",
       "      <td>Albumin</td>\n",
       "      <td>0.219192</td>\n",
       "    </tr>\n",
       "    <tr>\n",
       "      <td>3</td>\n",
       "      <td>Alkaline_Phosphotase</td>\n",
       "      <td>-0.000992</td>\n",
       "    </tr>\n",
       "    <tr>\n",
       "      <td>5</td>\n",
       "      <td>Aspartate_Aminotransferase</td>\n",
       "      <td>-0.003087</td>\n",
       "    </tr>\n",
       "    <tr>\n",
       "      <td>4</td>\n",
       "      <td>Alamine_Aminotransferase</td>\n",
       "      <td>-0.010500</td>\n",
       "    </tr>\n",
       "    <tr>\n",
       "      <td>0</td>\n",
       "      <td>Age</td>\n",
       "      <td>-0.013042</td>\n",
       "    </tr>\n",
       "    <tr>\n",
       "      <td>1</td>\n",
       "      <td>Total_Bilirubin</td>\n",
       "      <td>-0.027611</td>\n",
       "    </tr>\n",
       "    <tr>\n",
       "      <td>6</td>\n",
       "      <td>Total_Protiens</td>\n",
       "      <td>-0.205297</td>\n",
       "    </tr>\n",
       "    <tr>\n",
       "      <td>2</td>\n",
       "      <td>Direct_Bilirubin</td>\n",
       "      <td>-0.479181</td>\n",
       "    </tr>\n",
       "  </tbody>\n",
       "</table>\n",
       "</div>"
      ],
      "text/plain": [
       "                       Feature  Correlation\n",
       "8   Albumin_and_Globulin_Ratio     0.664897\n",
       "9                Gender_Female     0.465275\n",
       "10                 Gender_Male     0.230958\n",
       "7                      Albumin     0.219192\n",
       "3         Alkaline_Phosphotase    -0.000992\n",
       "5   Aspartate_Aminotransferase    -0.003087\n",
       "4     Alamine_Aminotransferase    -0.010500\n",
       "0                          Age    -0.013042\n",
       "1              Total_Bilirubin    -0.027611\n",
       "6               Total_Protiens    -0.205297\n",
       "2             Direct_Bilirubin    -0.479181"
      ]
     },
     "execution_count": 108,
     "metadata": {},
     "output_type": "execute_result"
    }
   ],
   "source": [
    "coeff_df = pd.DataFrame(x.columns)\n",
    "coeff_df.columns = ['Feature']\n",
    "coeff_df[\"Correlation\"] = pd.Series(logreg.coef_[0])\n",
    "pd.Series(logreg.coef_[0])\n",
    "\n",
    "coeff_df.sort_values(by='Correlation', ascending=False)"
   ]
  },
  {
   "cell_type": "code",
   "execution_count": 109,
   "metadata": {},
   "outputs": [
    {
     "name": "stdout",
     "output_type": "stream",
     "text": [
      "Gaussian Score: \n",
      " 56.13\n",
      "Gaussian Test Score: \n",
      " 53.14\n",
      "Accuracy: \n",
      " 0.5314285714285715\n",
      "[[44 80]\n",
      " [ 2 49]]\n",
      "              precision    recall  f1-score   support\n",
      "\n",
      "           1       0.96      0.35      0.52       124\n",
      "           2       0.38      0.96      0.54        51\n",
      "\n",
      "    accuracy                           0.53       175\n",
      "   macro avg       0.67      0.66      0.53       175\n",
      "weighted avg       0.79      0.53      0.53       175\n",
      "\n"
     ]
    },
    {
     "data": {
      "text/plain": [
       "<matplotlib.axes._subplots.AxesSubplot at 0x1a642dbbcc8>"
      ]
     },
     "execution_count": 109,
     "metadata": {},
     "output_type": "execute_result"
    },
    {
     "data": {
      "image/png": "[encoded data removed]",
      "text/plain": [
       "<Figure size 432x288 with 2 Axes>"
      ]
     },
     "metadata": {
      "needs_background": "light"
     },
     "output_type": "display_data"
    }
   ],
   "source": [
    "# Gaussian Naive Bayes\n",
    "\n",
    "gaussian = GaussianNB()\n",
    "gaussian.fit(X_train, y_train)\n",
    "#Predict Output\n",
    "gauss_predicted = gaussian.predict(X_test)\n",
    "\n",
    "gauss_score = round(gaussian.score(X_train, y_train) * 100, 2)\n",
    "gauss_score_test = round(gaussian.score(X_test, y_test) * 100, 2)\n",
    "print('Gaussian Score: \\n', gauss_score)\n",
    "print('Gaussian Test Score: \\n', gauss_score_test)\n",
    "print('Accuracy: \\n', accuracy_score(y_test, gauss_predicted))\n",
    "print(confusion_matrix(y_test,gauss_predicted))\n",
    "print(classification_report(y_test,gauss_predicted))\n",
    "\n",
    "sns.heatmap(confusion_matrix(y_test,gauss_predicted),annot=True,fmt=\"d\")"
   ]
  },
  {
   "cell_type": "code",
   "execution_count": 110,
   "metadata": {},
   "outputs": [
    {
     "name": "stdout",
     "output_type": "stream",
     "text": [
      "Random Forest Score: \n",
      " 100.0\n",
      "Random Forest Test Score: \n",
      " 68.0\n",
      "Accuracy: \n",
      " 0.68\n",
      "[[99 25]\n",
      " [31 20]]\n",
      "              precision    recall  f1-score   support\n",
      "\n",
      "           1       0.76      0.80      0.78       124\n",
      "           2       0.44      0.39      0.42        51\n",
      "\n",
      "    accuracy                           0.68       175\n",
      "   macro avg       0.60      0.60      0.60       175\n",
      "weighted avg       0.67      0.68      0.67       175\n",
      "\n"
     ]
    }
   ],
   "source": [
    "# Random Forest\n",
    "\n",
    "random_forest = RandomForestClassifier(n_estimators=100)\n",
    "random_forest.fit(X_train, y_train)\n",
    "#Predict Output\n",
    "rf_predicted = random_forest.predict(X_test)\n",
    "\n",
    "random_forest_score = round(random_forest.score(X_train, y_train) * 100, 2)\n",
    "random_forest_score_test = round(random_forest.score(X_test, y_test) * 100, 2)\n",
    "print('Random Forest Score: \\n', random_forest_score)\n",
    "print('Random Forest Test Score: \\n', random_forest_score_test)\n",
    "print('Accuracy: \\n', accuracy_score(y_test,rf_predicted))\n",
    "print(confusion_matrix(y_test,rf_predicted))\n",
    "print(classification_report(y_test,rf_predicted))"
   ]
  },
  {
   "cell_type": "code",
   "execution_count": 111,
   "metadata": {},
   "outputs": [
    {
     "data": {
      "text/html": [
       "<div>\n",
       "<style scoped>\n",
       "    .dataframe tbody tr th:only-of-type {\n",
       "        vertical-align: middle;\n",
       "    }\n",
       "\n",
       "    .dataframe tbody tr th {\n",
       "        vertical-align: top;\n",
       "    }\n",
       "\n",
       "    .dataframe thead th {\n",
       "        text-align: right;\n",
       "    }\n",
       "</style>\n",
       "<table border=\"1\" class=\"dataframe\">\n",
       "  <thead>\n",
       "    <tr style=\"text-align: right;\">\n",
       "      <th></th>\n",
       "      <th>Model</th>\n",
       "      <th>Score</th>\n",
       "      <th>Test Score</th>\n",
       "    </tr>\n",
       "  </thead>\n",
       "  <tbody>\n",
       "    <tr>\n",
       "      <td>2</td>\n",
       "      <td>Random Forest</td>\n",
       "      <td>100.00</td>\n",
       "      <td>68.00</td>\n",
       "    </tr>\n",
       "    <tr>\n",
       "      <td>0</td>\n",
       "      <td>Logistic Regression</td>\n",
       "      <td>73.53</td>\n",
       "      <td>66.29</td>\n",
       "    </tr>\n",
       "    <tr>\n",
       "      <td>1</td>\n",
       "      <td>Gaussian Naive Bayes</td>\n",
       "      <td>56.13</td>\n",
       "      <td>53.14</td>\n",
       "    </tr>\n",
       "  </tbody>\n",
       "</table>\n",
       "</div>"
      ],
      "text/plain": [
       "                  Model   Score  Test Score\n",
       "2         Random Forest  100.00       68.00\n",
       "0   Logistic Regression   73.53       66.29\n",
       "1  Gaussian Naive Bayes   56.13       53.14"
      ]
     },
     "execution_count": 111,
     "metadata": {},
     "output_type": "execute_result"
    }
   ],
   "source": [
    "###Model evaluation\n",
    "#We can now rank our evaluation of all the models to choose the best one for our problem. \n",
    "models = pd.DataFrame({\n",
    "    'Model': [ 'Logistic Regression', 'Gaussian Naive Bayes','Random Forest'],\n",
    "    'Score': [ logreg_score, gauss_score, random_forest_score],\n",
    "    'Test Score': [ logreg_score_test, gauss_score_test, random_forest_score_test]})\n",
    "models.sort_values(by='Test Score', ascending=False)"
   ]
  },
  {
   "cell_type": "code",
   "execution_count": 112,
   "metadata": {},
   "outputs": [
    {
     "name": "stdout",
     "output_type": "stream",
     "text": [
      "Linear Regression Score: \n",
      " 13.12\n",
      "Linear Regression Test Score: \n",
      " 8.07\n",
      "Coefficient: \n",
      " [-2.53338525e-03 -4.02775624e-04 -2.29658815e-02 -2.17508414e-04\n",
      " -3.93047877e-04  6.12504741e-05 -5.55814496e-02  8.31023933e-02\n",
      "  6.22099710e-02  4.61371689e-02 -4.61371689e-02]\n",
      "Intercept: \n",
      " 1.5942528884830869\n"
     ]
    },
    {
     "data": {
      "text/plain": [
       "RFE(estimator=LinearRegression(copy_X=True, fit_intercept=True, n_jobs=None,\n",
       "                               normalize=False),\n",
       "    n_features_to_select=3, step=1, verbose=0)"
      ]
     },
     "execution_count": 112,
     "metadata": {},
     "output_type": "execute_result"
    }
   ],
   "source": [
    "linear = linear_model.LinearRegression()\n",
    "# Train the model using the training sets and check score\n",
    "linear.fit(X_train, y_train)\n",
    "#Predict Output\n",
    "lin_predicted = linear.predict(X_test)\n",
    "\n",
    "linear_score = round(linear.score(X_train, y_train) * 100, 2)\n",
    "linear_score_test = round(linear.score(X_test, y_test) * 100, 2)\n",
    "#Equation coefficient and Intercept\n",
    "print('Linear Regression Score: \\n', linear_score)\n",
    "print('Linear Regression Test Score: \\n', linear_score_test)\n",
    "print('Coefficient: \\n', linear.coef_)\n",
    "print('Intercept: \\n', linear.intercept_)\n",
    "\n",
    "from sklearn.feature_selection import RFE\n",
    "rfe =RFE(linear, n_features_to_select=3)\n",
    "rfe.fit(x,y)"
   ]
  },
  {
   "cell_type": "code",
   "execution_count": 113,
   "metadata": {},
   "outputs": [
    {
     "data": {
      "text/html": [
       "<div>\n",
       "<style scoped>\n",
       "    .dataframe tbody tr th:only-of-type {\n",
       "        vertical-align: middle;\n",
       "    }\n",
       "\n",
       "    .dataframe tbody tr th {\n",
       "        vertical-align: top;\n",
       "    }\n",
       "\n",
       "    .dataframe thead th {\n",
       "        text-align: right;\n",
       "    }\n",
       "</style>\n",
       "<table border=\"1\" class=\"dataframe\">\n",
       "  <thead>\n",
       "    <tr style=\"text-align: right;\">\n",
       "      <th></th>\n",
       "      <th>Total_Protiens</th>\n",
       "      <th>Albumin</th>\n",
       "      <th>Gender_Male</th>\n",
       "    </tr>\n",
       "  </thead>\n",
       "  <tbody>\n",
       "    <tr>\n",
       "      <td>0</td>\n",
       "      <td>6.8</td>\n",
       "      <td>3.3</td>\n",
       "      <td>0</td>\n",
       "    </tr>\n",
       "    <tr>\n",
       "      <td>1</td>\n",
       "      <td>7.5</td>\n",
       "      <td>3.2</td>\n",
       "      <td>1</td>\n",
       "    </tr>\n",
       "    <tr>\n",
       "      <td>2</td>\n",
       "      <td>7.0</td>\n",
       "      <td>3.3</td>\n",
       "      <td>1</td>\n",
       "    </tr>\n",
       "    <tr>\n",
       "      <td>3</td>\n",
       "      <td>6.8</td>\n",
       "      <td>3.4</td>\n",
       "      <td>1</td>\n",
       "    </tr>\n",
       "  </tbody>\n",
       "</table>\n",
       "</div>"
      ],
      "text/plain": [
       "   Total_Protiens  Albumin  Gender_Male\n",
       "0             6.8      3.3            0\n",
       "1             7.5      3.2            1\n",
       "2             7.0      3.3            1\n",
       "3             6.8      3.4            1"
      ]
     },
     "execution_count": 113,
     "metadata": {},
     "output_type": "execute_result"
    }
   ],
   "source": [
    "#I'm considering seven important features based on recursive feature elimination\n",
    "#finX = liver_df[['Age','Direct_Bilirubin','Total_Protiens','Albumin', 'Gender_Female', 'Gender_Male']]\n",
    "finX = liver[['Total_Protiens','Albumin', 'Gender_Male']]\n",
    "finX.head(4)"
   ]
  },
  {
   "cell_type": "code",
   "execution_count": 114,
   "metadata": {},
   "outputs": [],
   "source": [
    "X_train, X_test, y_train, y_test = train_test_split(finX, y, test_size=0.30, random_state=101)\n"
   ]
  },
  {
   "cell_type": "code",
   "execution_count": 115,
   "metadata": {},
   "outputs": [
    {
     "name": "stdout",
     "output_type": "stream",
     "text": [
      "Logistic Regression Training Score: \n",
      " 71.08\n",
      "Logistic Regression Test Score: \n",
      " 71.43\n",
      "Coefficient: \n",
      " [[-0.59570175  1.09488855 -0.54783114]]\n",
      "Intercept: \n",
      " [-0.1301474]\n",
      "Accuracy: \n",
      " 0.7142857142857143\n",
      "Confusion Matrix: \n",
      " [[120   4]\n",
      " [ 46   5]]\n",
      "Classification Report: \n",
      "               precision    recall  f1-score   support\n",
      "\n",
      "           1       0.72      0.97      0.83       124\n",
      "           2       0.56      0.10      0.17        51\n",
      "\n",
      "    accuracy                           0.71       175\n",
      "   macro avg       0.64      0.53      0.50       175\n",
      "weighted avg       0.67      0.71      0.63       175\n",
      "\n"
     ]
    },
    {
     "data": {
      "text/plain": [
       "<matplotlib.axes._subplots.AxesSubplot at 0x1a647c863c8>"
      ]
     },
     "execution_count": 115,
     "metadata": {},
     "output_type": "execute_result"
    },
    {
     "data": {
      "image/png": "[encoded data removed]",
      "text/plain": [
       "<Figure size 432x288 with 2 Axes>"
      ]
     },
     "metadata": {
      "needs_background": "light"
     },
     "output_type": "display_data"
    }
   ],
   "source": [
    "#Logistic Regression\n",
    "logreg = LogisticRegression()\n",
    "# Train the model using the training sets and check score\n",
    "logreg.fit(X_train, y_train)\n",
    "#Predict Output\n",
    "log_predicted= logreg.predict(X_test)\n",
    "\n",
    "logreg_score = round(logreg.score(X_train, y_train) * 100, 2)\n",
    "logreg_score_test = round(logreg.score(X_test, y_test) * 100, 2)\n",
    "#Equation coefficient and Intercept\n",
    "print('Logistic Regression Training Score: \\n', logreg_score)\n",
    "print('Logistic Regression Test Score: \\n', logreg_score_test)\n",
    "print('Coefficient: \\n', logreg.coef_)\n",
    "print('Intercept: \\n', logreg.intercept_)\n",
    "print('Accuracy: \\n', accuracy_score(y_test,log_predicted))\n",
    "print('Confusion Matrix: \\n', confusion_matrix(y_test,log_predicted))\n",
    "print('Classification Report: \\n', classification_report(y_test,log_predicted))\n",
    "\n",
    "sns.heatmap(confusion_matrix(y_test,log_predicted),annot=True,fmt=\"d\")"
   ]
  },
  {
   "cell_type": "code",
   "execution_count": null,
   "metadata": {},
   "outputs": [],
   "source": []
  }
 ],
 "metadata": {
  "kernelspec": {
   "display_name": "Python 3",
   "language": "python",
   "name": "python3"
  },
  "language_info": {
   "codemirror_mode": {
    "name": "ipython",
    "version": 3
   },
   "file_extension": ".py",
   "mimetype": "text/x-python",
   "name": "python",
   "nbconvert_exporter": "python",
   "pygments_lexer": "ipython3",
   "version": "3.7.4"
  }
 },
 "nbformat": 4,
 "nbformat_minor": 2
}
