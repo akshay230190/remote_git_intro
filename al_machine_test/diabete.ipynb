{
 "cells": [
  {
   "cell_type": "markdown",
   "metadata": {},
   "source": [
    "# import required liberaries"
   ]
  },
  {
   "cell_type": "code",
   "execution_count": 34,
   "metadata": {},
   "outputs": [],
   "source": [
    "import numpy as np\n",
    "import pandas as pd\n",
    "import seaborn as sns\n",
    "import matplotlib.pyplot as plt\n",
    "from sklearn.preprocessing import StandardScaler,MinMaxScaler\n",
    "from sklearn.model_selection import train_test_split, GridSearchCV\n",
    "from sklearn.linear_model import LogisticRegression\n",
    "from sklearn.neighbors import KNeighborsClassifier\n",
    "from sklearn.ensemble import RandomForestClassifier,GradientBoostingClassifier\n",
    "from sklearn.tree import DecisionTreeClassifier\n",
    "from sklearn.model_selection import cross_val_score, cross_val_predict\n",
    "from sklearn.svm import SVC\n",
    "from sklearn.metrics import classification_report, confusion_matrix\n",
    "\n",
    "import warnings\n",
    "warnings.simplefilter(\"ignore\")"
   ]
  },
  {
   "cell_type": "markdown",
   "metadata": {},
   "source": [
    "# load dataset"
   ]
  },
  {
   "cell_type": "code",
   "execution_count": 35,
   "metadata": {},
   "outputs": [
    {
     "data": {
      "text/html": [
       "<div>\n",
       "<style scoped>\n",
       "    .dataframe tbody tr th:only-of-type {\n",
       "        vertical-align: middle;\n",
       "    }\n",
       "\n",
       "    .dataframe tbody tr th {\n",
       "        vertical-align: top;\n",
       "    }\n",
       "\n",
       "    .dataframe thead th {\n",
       "        text-align: right;\n",
       "    }\n",
       "</style>\n",
       "<table border=\"1\" class=\"dataframe\">\n",
       "  <thead>\n",
       "    <tr style=\"text-align: right;\">\n",
       "      <th></th>\n",
       "      <th>Pregnancies</th>\n",
       "      <th>Glucose</th>\n",
       "      <th>BloodPressure</th>\n",
       "      <th>SkinThickness</th>\n",
       "      <th>Insulin</th>\n",
       "      <th>BMI</th>\n",
       "      <th>DiabetesPedigreeFunction</th>\n",
       "      <th>Age</th>\n",
       "      <th>Outcome</th>\n",
       "    </tr>\n",
       "  </thead>\n",
       "  <tbody>\n",
       "    <tr>\n",
       "      <td>0</td>\n",
       "      <td>6</td>\n",
       "      <td>148</td>\n",
       "      <td>72</td>\n",
       "      <td>35</td>\n",
       "      <td>0</td>\n",
       "      <td>33.6</td>\n",
       "      <td>0.627</td>\n",
       "      <td>50</td>\n",
       "      <td>1</td>\n",
       "    </tr>\n",
       "    <tr>\n",
       "      <td>1</td>\n",
       "      <td>1</td>\n",
       "      <td>85</td>\n",
       "      <td>66</td>\n",
       "      <td>29</td>\n",
       "      <td>0</td>\n",
       "      <td>26.6</td>\n",
       "      <td>0.351</td>\n",
       "      <td>31</td>\n",
       "      <td>0</td>\n",
       "    </tr>\n",
       "    <tr>\n",
       "      <td>2</td>\n",
       "      <td>8</td>\n",
       "      <td>183</td>\n",
       "      <td>64</td>\n",
       "      <td>0</td>\n",
       "      <td>0</td>\n",
       "      <td>23.3</td>\n",
       "      <td>0.672</td>\n",
       "      <td>32</td>\n",
       "      <td>1</td>\n",
       "    </tr>\n",
       "    <tr>\n",
       "      <td>3</td>\n",
       "      <td>1</td>\n",
       "      <td>89</td>\n",
       "      <td>66</td>\n",
       "      <td>23</td>\n",
       "      <td>94</td>\n",
       "      <td>28.1</td>\n",
       "      <td>0.167</td>\n",
       "      <td>21</td>\n",
       "      <td>0</td>\n",
       "    </tr>\n",
       "    <tr>\n",
       "      <td>4</td>\n",
       "      <td>0</td>\n",
       "      <td>137</td>\n",
       "      <td>40</td>\n",
       "      <td>35</td>\n",
       "      <td>168</td>\n",
       "      <td>43.1</td>\n",
       "      <td>2.288</td>\n",
       "      <td>33</td>\n",
       "      <td>1</td>\n",
       "    </tr>\n",
       "  </tbody>\n",
       "</table>\n",
       "</div>"
      ],
      "text/plain": [
       "   Pregnancies  Glucose  BloodPressure  SkinThickness  Insulin   BMI  \\\n",
       "0            6      148             72             35        0  33.6   \n",
       "1            1       85             66             29        0  26.6   \n",
       "2            8      183             64              0        0  23.3   \n",
       "3            1       89             66             23       94  28.1   \n",
       "4            0      137             40             35      168  43.1   \n",
       "\n",
       "   DiabetesPedigreeFunction  Age  Outcome  \n",
       "0                     0.627   50        1  \n",
       "1                     0.351   31        0  \n",
       "2                     0.672   32        1  \n",
       "3                     0.167   21        0  \n",
       "4                     2.288   33        1  "
      ]
     },
     "execution_count": 35,
     "metadata": {},
     "output_type": "execute_result"
    }
   ],
   "source": [
    "df=pd.read_csv(\"diabetes.csv\")\n",
    "df.head()"
   ]
  },
  {
   "cell_type": "markdown",
   "metadata": {},
   "source": [
    "# let's check dimension of data set and set target "
   ]
  },
  {
   "cell_type": "code",
   "execution_count": 36,
   "metadata": {},
   "outputs": [
    {
     "name": "stdout",
     "output_type": "stream",
     "text": [
      "dimension od dataset:(768, 9)\n",
      "total target with 1 and 0:Outcome\n",
      "0    500\n",
      "1    268\n",
      "dtype: int64\n"
     ]
    }
   ],
   "source": [
    "print(f\"dimension od dataset:{df.shape}\")\n",
    "print(f\"total target with 1 and 0:{df.groupby('Outcome').size()}\")"
   ]
  },
  {
   "cell_type": "code",
   "execution_count": 37,
   "metadata": {},
   "outputs": [],
   "source": [
    "df_target=df['Outcome']\n",
    "df=df.drop('Outcome',axis=1)"
   ]
  },
  {
   "cell_type": "markdown",
   "metadata": {},
   "source": [
    " # let's use K-nearest neighors algorithms\n",
    " \n",
    " K-nearest neighbors (KNN) algorithm is a type of supervised ML algorithm which can be used for both classification as well as regression predictive problems. However, it is mainly used for classification predictive problems in industry. The following two properties would define KNN well"
   ]
  },
  {
   "cell_type": "code",
   "execution_count": 38,
   "metadata": {},
   "outputs": [],
   "source": [
    "x_train,x_test,y_train,y_test=train_test_split(df,df_target,stratify=df_target,random_state=66)"
   ]
  },
  {
   "cell_type": "code",
   "execution_count": 39,
   "metadata": {},
   "outputs": [],
   "source": [
    "train_acc=[]\n",
    "test_acc=[]\n",
    "range_nbr=range(1,11)\n",
    "for nbr in range_nbr:\n",
    "    #build the model\n",
    "    knn=KNeighborsClassifier(n_neighbors=nbr)\n",
    "    knn.fit(x_train,y_train)\n",
    "    \n",
    "    #append into train accouracy\n",
    "    train_acc.append(knn.score(x_train,y_train))\n",
    "    \n",
    "    #append into test accouracy\n",
    "    test_acc.append(knn.score(x_test,y_test))\n",
    "    \n"
   ]
  },
  {
   "cell_type": "markdown",
   "metadata": {},
   "source": [
    "# lets plot our accuracy"
   ]
  },
  {
   "cell_type": "code",
   "execution_count": 40,
   "metadata": {},
   "outputs": [
    {
     "data": {
      "image/png": "[encoded data removed]",
      "text/plain": [
       "<Figure size 432x288 with 1 Axes>"
      ]
     },
     "metadata": {
      "needs_background": "light"
     },
     "output_type": "display_data"
    }
   ],
   "source": [
    "plt.plot(range_nbr,train_acc,label=\"traning accuracy\")\n",
    "plt.plot(range_nbr,test_acc,label=\"test accuracy\")\n",
    "plt.ylabel(\"Accuracy\")\n",
    "plt.xlabel(\"n_neighours\")\n",
    "plt.legend()\n",
    "plt.savefig(\"knn_comapre_model\")\n",
    "\n"
   ]
  },
  {
   "cell_type": "markdown",
   "metadata": {},
   "source": [
    "The above plot shows the training and test set accuracy on the y-axis \n",
    "against the setting of n_neighbors on the x-axis. Considering \n",
    "if we choose one single nearest neighbor, the prediction on the training set is perfect. \n",
    "But when more neighbors are considered, the training accuracy drops, indicating that \n",
    "using the single nearest neighbor leads to a model that is too complex.\n",
    "The best performance is somewhere around 9 neighbors."
   ]
  },
  {
   "cell_type": "markdown",
   "metadata": {},
   "source": [
    "The plot suggests that we should choose n_neighbors=9. Here we are:"
   ]
  },
  {
   "cell_type": "code",
   "execution_count": 41,
   "metadata": {},
   "outputs": [
    {
     "name": "stdout",
     "output_type": "stream",
     "text": [
      "Accuracy of K-NN  Classfication  on traning set: 79.17\n",
      "Accuracy of K-NN  Classfication  on test set: 77.60\n"
     ]
    }
   ],
   "source": [
    "knn=KNeighborsClassifier(n_neighbors=9)\n",
    "knn.fit(x_train,y_train)\n",
    "knn_train_accuracy=(knn.score(x_train,y_train)*100)\n",
    "knn_test_accuracy=(knn.score(x_test,y_test)*100)\n",
    "print(f'Accuracy of K-NN  Classfication  on traning set: {knn_train_accuracy:.2f}')\n",
    "print(f'Accuracy of K-NN  Classfication  on test set: {knn_test_accuracy:.2f}')"
   ]
  },
  {
   "cell_type": "markdown",
   "metadata": {},
   "source": [
    "# Logistic regression\n",
    "Logistic Regression is one of the most common classification algorithms."
   ]
  },
  {
   "cell_type": "code",
   "execution_count": 43,
   "metadata": {},
   "outputs": [
    {
     "name": "stdout",
     "output_type": "stream",
     "text": [
      "traning set score:78.12 \n",
      "test set score:77.08 \n"
     ]
    }
   ],
   "source": [
    "logreg=LogisticRegression()\n",
    "logreg.fit(x_train,y_train)\n",
    "log_train=(logreg.score(x_train,y_train)*100)\n",
    "log_test=(logreg.score(x_test,y_test)*100)\n",
    "print(f\"traning set score:{log_train:.2f} \")\n",
    "print(f\"test set score:{log_test:.2f} \")\n"
   ]
  },
  {
   "cell_type": "markdown",
   "metadata": {},
   "source": [
    "# Decision Tree\n"
   ]
  },
  {
   "cell_type": "code",
   "execution_count": 44,
   "metadata": {},
   "outputs": [
    {
     "name": "stdout",
     "output_type": "stream",
     "text": [
      "traning set score:100.00 \n",
      "test set score:71.35 \n"
     ]
    }
   ],
   "source": [
    "dtree=DecisionTreeClassifier(random_state=0)\n",
    "dtree.fit(x_train,y_train)\n",
    "tree_train=dtree.score(x_train,y_train)*100\n",
    "tree_test=dtree.score(x_test,y_test)*100\n",
    "print(f\"traning set score:{tree_train:.2f} \")\n",
    "print(f\"test set score:{tree_test:.2f} \")\n"
   ]
  },
  {
   "cell_type": "markdown",
   "metadata": {},
   "source": [
    "The accuracy on the training set is 100% while the test set accuracy is much worse./nThis is an indicative that the tree is overfitting and not generalizing well to new data. Therefore, we need to apply pre-pruning to the tree.\n",
    "#### We set max_depth=3, limiting the depth of the tree decreases overfitting. This leads to a lower accuracy on the training set, but an improvement on the test set."
   ]
  },
  {
   "cell_type": "code",
   "execution_count": 45,
   "metadata": {},
   "outputs": [
    {
     "name": "stdout",
     "output_type": "stream",
     "text": [
      "traning set score:77.26 \n",
      "test set score:73.96 \n"
     ]
    }
   ],
   "source": [
    "dtree=DecisionTreeClassifier(random_state=0,max_depth=3)\n",
    "dtree.fit(x_train,y_train)\n",
    "tree_train=dtree.score(x_train,y_train)*100\n",
    "tree_test=dtree.score(x_test,y_test)*100\n",
    "print(f\"traning set score:{tree_train:.2f} \")\n",
    "print(f\"test set score:{tree_test:.2f} \")"
   ]
  },
  {
   "cell_type": "markdown",
   "metadata": {},
   "source": [
    "# Feature Importance in Decision Trees\n",
    "Feature importance rates how important each feature is for the decision a tree makes. It is a number between 0 and 1 for each feature, where 0 means “not used at all” and 1 means “perfectly predicts the target”. The feature importances always sum to 1:"
   ]
  },
  {
   "cell_type": "code",
   "execution_count": 46,
   "metadata": {},
   "outputs": [
    {
     "name": "stdout",
     "output_type": "stream",
     "text": [
      "Feature importance [0.04554275 0.6830362  0.         0.         0.         0.27142106\n",
      " 0.         0.        ]\n"
     ]
    }
   ],
   "source": [
    "print(f\"Feature importance {dtree.feature_importances_}\")"
   ]
  },
  {
   "cell_type": "markdown",
   "metadata": {},
   "source": [
    "Then we can visualize the feature importances:\n"
   ]
  },
  {
   "cell_type": "code",
   "execution_count": 47,
   "metadata": {},
   "outputs": [
    {
     "data": {
      "image/png": "[encoded data removed]",
      "text/plain": [
       "<Figure size 576x432 with 1 Axes>"
      ]
     },
     "metadata": {
      "needs_background": "light"
     },
     "output_type": "display_data"
    }
   ],
   "source": [
    "def plot_feature(model):\n",
    "    plt.figure(figsize=(8,6))\n",
    "    n_feature=8\n",
    "    plt.barh(range(n_feature),model.feature_importances_,\n",
    "                   align='center')\n",
    "    plt.yticks(np.arange(n_feature),df)\n",
    "    plt.xlabel(\"Feature importance\")\n",
    "    plt.ylabel(\"Feature\")\n",
    "    plt.ylim(-1, n_feature)\n",
    "plot_feature(dtree)\n",
    "plt.savefig(\"tree_feature\")"
   ]
  },
  {
   "cell_type": "markdown",
   "metadata": {},
   "source": [
    "# Ramdom Forest\n",
    "\n",
    "Let’s apply a random forest consisting of 100 trees on the diabetes data set:"
   ]
  },
  {
   "cell_type": "code",
   "execution_count": 48,
   "metadata": {},
   "outputs": [
    {
     "name": "stdout",
     "output_type": "stream",
     "text": [
      "Accuracy on traning set: 100.00\n",
      "Accuracy on test set: 78.65\n"
     ]
    }
   ],
   "source": [
    "rforest=RandomForestClassifier(n_estimators=100,random_state=0)\n",
    "rforest.fit(x_train,y_train)\n",
    "rf_train=rforest.score(x_train,y_train)*100\n",
    "rf_test=rforest.score(x_test,y_test)*100\n",
    "print(f\"Accuracy on traning set: {rf_train:.2f}\")\n",
    "print(f\"Accuracy on test set: {rf_test:.2f}\")\n"
   ]
  },
  {
   "cell_type": "markdown",
   "metadata": {},
   "source": [
    "The random forest gives us an accuracy of 78.6%, better than the logistic regression model or a single decision tree, without tuning any parameters. However, we can adjust the max_features setting, to see whether the result can be improved."
   ]
  },
  {
   "cell_type": "code",
   "execution_count": 62,
   "metadata": {
    "scrolled": true
   },
   "outputs": [
    {
     "name": "stdout",
     "output_type": "stream",
     "text": [
      "Accuracy on traning set: 80.03\n",
      "Accuracy on test set: 75.52\n"
     ]
    }
   ],
   "source": [
    "rforest1=RandomForestClassifier(n_estimators=100,random_state=0,max_depth=3)\n",
    "rforest1.fit(x_train,y_train)\n",
    "rf1_train=rforest1.score(x_train,y_train)*100\n",
    "rf1_test=rforest1.score(x_test,y_test)*100\n",
    "print(f\"Accuracy on traning set: {rf1_train:.2f}\")\n",
    "print(f\"Accuracy on test set: {rf1_test:.2f}\")"
   ]
  },
  {
   "cell_type": "code",
   "execution_count": 63,
   "metadata": {},
   "outputs": [
    {
     "name": "stdout",
     "output_type": "stream",
     "text": [
      "Accuracy on traning set: 79.86\n",
      "Accuracy on test set: 74.48\n"
     ]
    }
   ],
   "source": [
    "rforest3=RandomForestClassifier(n_estimators=1000,random_state=0,max_depth=3)\n",
    "rforest3.fit(x_train,y_train)\n",
    "rf3_train=rforest3.score(x_train,y_train)*100\n",
    "rf3_test=rforest3.score(x_test,y_test)*100\n",
    "print(f\"Accuracy on traning set: {rf3_train:.2f}\")\n",
    "print(f\"Accuracy on test set: {rf3_test:.2f}\")"
   ]
  },
  {
   "cell_type": "markdown",
   "metadata": {},
   "source": [
    "# Feature importance in Random Forest"
   ]
  },
  {
   "cell_type": "code",
   "execution_count": 51,
   "metadata": {},
   "outputs": [
    {
     "data": {
      "image/png": "[encoded data removed]",
      "text/plain": [
       "<Figure size 576x432 with 1 Axes>"
      ]
     },
     "metadata": {
      "needs_background": "light"
     },
     "output_type": "display_data"
    }
   ],
   "source": [
    "\n",
    "plot_feature(rforest)"
   ]
  },
  {
   "cell_type": "markdown",
   "metadata": {},
   "source": [
    "Similarly to the single decision tree, the random forest also gives a lot of importance to the “Glucose” feature, but it also chooses “BMI” to be the 2nd most informative feature overall. The randomness in building the random forest forces the algorithm to consider many possible explanations, the result being that the random forest captures a much broader picture of the data than a single tree."
   ]
  },
  {
   "cell_type": "markdown",
   "metadata": {},
   "source": [
    "# Gradient boosting\n",
    "is a machine learning technique for regression and classification problems, which produces a prediction model in the form of an ensemble of weak prediction models, typically decision trees."
   ]
  },
  {
   "cell_type": "code",
   "execution_count": 52,
   "metadata": {},
   "outputs": [
    {
     "name": "stdout",
     "output_type": "stream",
     "text": [
      "Accuracy on traning set: 91.67\n",
      "Accuracy on test set: 79.17\n"
     ]
    }
   ],
   "source": [
    "gb=GradientBoostingClassifier(random_state=0)\n",
    "gb.fit(x_train,y_train)\n",
    "gb_train=gb.score(x_train,y_train)*100\n",
    "gb_test=gb.score(x_test,y_test)*100\n",
    "print(f\"Accuracy on traning set: {gb_train:.2f}\")\n",
    "print(f\"Accuracy on test set: {gb_test:.2f}\")\n"
   ]
  },
  {
   "cell_type": "markdown",
   "metadata": {},
   "source": [
    "It seems to be overfitting ,to reduce overfitting we try max depth=1 or lowr the learning rate\n"
   ]
  },
  {
   "cell_type": "code",
   "execution_count": 64,
   "metadata": {},
   "outputs": [
    {
     "name": "stdout",
     "output_type": "stream",
     "text": [
      "Accuracy on traning set: 80.38\n",
      "Accuracy on test set: 78.12\n"
     ]
    }
   ],
   "source": [
    "gb1=GradientBoostingClassifier(random_state=0,max_depth=1)\n",
    "gb1.fit(x_train,y_train)\n",
    "gb1_train=gb1.score(x_train,y_train)*100\n",
    "gb1_test=gb1.score(x_test,y_test)*100\n",
    "print(f\"Accuracy on traning set: {gb1_train:.2f}\")\n",
    "print(f\"Accuracy on test set: {gb1_test:.2f}\")"
   ]
  },
  {
   "cell_type": "code",
   "execution_count": 65,
   "metadata": {},
   "outputs": [
    {
     "name": "stdout",
     "output_type": "stream",
     "text": [
      "Accuracy on traning set: 80.21\n",
      "Accuracy on test set: 77.60\n"
     ]
    }
   ],
   "source": [
    "gb2=GradientBoostingClassifier(random_state=0,learning_rate=0.01)\n",
    "gb2.fit(x_train,y_train)\n",
    "gb2_train=gb2.score(x_train,y_train)*100\n",
    "gb2_test=gb2.score(x_test,y_test)*100\n",
    "print(f\"Accuracy on traning set: {gb2_train:.2f}\")\n",
    "print(f\"Accuracy on test set: {gb2_test:.2f}\")"
   ]
  },
  {
   "cell_type": "markdown",
   "metadata": {},
   "source": [
    "Both methods of decreasing the model complexity reduced the training set accuracy, as expected. However, in this case, none of these methods increased the generalization performance of the test set.\n",
    "We can visualize the feature importances to get more insight into our model even though we are not really happy with the model:"
   ]
  },
  {
   "cell_type": "markdown",
   "metadata": {},
   "source": [
    "# Feature importance in # Gradient boosting"
   ]
  },
  {
   "cell_type": "code",
   "execution_count": 55,
   "metadata": {},
   "outputs": [
    {
     "data": {
      "image/png": "[encoded data removed]",
      "text/plain": [
       "<Figure size 576x432 with 1 Axes>"
      ]
     },
     "metadata": {
      "needs_background": "light"
     },
     "output_type": "display_data"
    }
   ],
   "source": [
    "plot_feature(gb1)"
   ]
  },
  {
   "cell_type": "markdown",
   "metadata": {},
   "source": [
    "We can see that the feature importances of the gradient boosted trees are somewhat similar to the feature importances of the random forests, it gives weight to all of the features in this case."
   ]
  },
  {
   "cell_type": "markdown",
   "metadata": {},
   "source": [
    "# support vector machine"
   ]
  },
  {
   "cell_type": "markdown",
   "metadata": {},
   "source": [
    "In machine learning, support-vector machines are supervised learning models with associated learning algorithms that analyze data used for classification and regression analysis."
   ]
  },
  {
   "cell_type": "code",
   "execution_count": 56,
   "metadata": {},
   "outputs": [
    {
     "name": "stdout",
     "output_type": "stream",
     "text": [
      "Accuracy on traning set: 1.00\n",
      "Accuracy on test set: 0.65\n"
     ]
    }
   ],
   "source": [
    "svc=SVC()\n",
    "svc.fit(x_train,y_train)\n",
    "svc_train=svc.score(x_train,y_train)\n",
    "svc_test=svc.score(x_test,y_test)\n",
    "print(f\"Accuracy on traning set: {svc_train:.2f}\")\n",
    "print(f\"Accuracy on test set: {svc_test:.2f}\")"
   ]
  },
  {
   "cell_type": "markdown",
   "metadata": {},
   "source": [
    "The model overfits quite substantially, with a perfect score on the training set and only 65% accuracy on the test set.\n",
    "\n",
    "then we scale the data to overcome to this problem"
   ]
  },
  {
   "cell_type": "code",
   "execution_count": 26,
   "metadata": {},
   "outputs": [],
   "source": [
    "scaler=MinMaxScaler()\n"
   ]
  },
  {
   "cell_type": "code",
   "execution_count": 57,
   "metadata": {},
   "outputs": [
    {
     "name": "stdout",
     "output_type": "stream",
     "text": [
      "Accuracy on traning set:76.91\n",
      "Accuracy on test set:77.08\n"
     ]
    }
   ],
   "source": [
    "x_train_scaler=scaler.fit_transform(x_train)\n",
    "x_test_scaler=scaler.fit_transform(x_test)\n",
    "\n",
    "svc=SVC()\n",
    "svc.fit(x_train_scaler,y_train)\n",
    "svc_train=svc.score(x_train_scaler,y_train)*100\n",
    "svc_test=svc.score(x_test_scaler,y_test)*100\n",
    "print(f\"Accuracy on traning set:{svc_train:.2f}\")\n",
    "print(f\"Accuracy on test set:{svc_test:.2f}\")"
   ]
  },
  {
   "cell_type": "markdown",
   "metadata": {},
   "source": [
    "Scaling the data made a huge difference! Now we are actually underfitting, where training and test set performance are quite similar but less close to 100% accuracy. From here, we can try increasing either C or gamma to fit a more complex model."
   ]
  },
  {
   "cell_type": "code",
   "execution_count": 58,
   "metadata": {},
   "outputs": [
    {
     "name": "stdout",
     "output_type": "stream",
     "text": [
      "Accuracy on traning set:78.99\n",
      "Accuracy on test set:79.69\n"
     ]
    }
   ],
   "source": [
    "svc=SVC(C=1000)\n",
    "svc.fit(x_train_scaler,y_train)\n",
    "svc_train=svc.score(x_train_scaler,y_train)*100\n",
    "svc_test=svc.score(x_test_scaler,y_test)*100\n",
    "print(f\"Accuracy on traning set:{svc_train:.2f}\")\n",
    "print(f\"Accuracy on test set:{svc_test:.2f}\")"
   ]
  },
  {
   "cell_type": "markdown",
   "metadata": {},
   "source": [
    "Here, increasing C allows us to improve the model, resulting in 79.7% test set accuracy."
   ]
  },
  {
   "cell_type": "markdown",
   "metadata": {},
   "source": [
    "# summary"
   ]
  },
  {
   "cell_type": "code",
   "execution_count": 72,
   "metadata": {},
   "outputs": [],
   "source": [
    "model_name=['KNN','LOGISTIC','DECISION TREE','RANDOM FOREST','GRADIANT BOOSTING','SVC']\n",
    "train_accuracy=[knn_train_accuracy,log_train,tree_train,rf1_train,gb2_train,svc_train]\n",
    "test_accuracy=[knn_test_accuracy,log_test,tree_test,rf1_test,gb2_test,svc_test]\n"
   ]
  },
  {
   "cell_type": "code",
   "execution_count": 73,
   "metadata": {},
   "outputs": [],
   "source": [
    "evaluation=pd.DataFrame({'train_accuracy':train_accuracy,'test_accuracy':test_accuracy},index=model_name)"
   ]
  },
  {
   "cell_type": "code",
   "execution_count": 74,
   "metadata": {},
   "outputs": [
    {
     "data": {
      "text/html": [
       "<div>\n",
       "<style scoped>\n",
       "    .dataframe tbody tr th:only-of-type {\n",
       "        vertical-align: middle;\n",
       "    }\n",
       "\n",
       "    .dataframe tbody tr th {\n",
       "        vertical-align: top;\n",
       "    }\n",
       "\n",
       "    .dataframe thead th {\n",
       "        text-align: right;\n",
       "    }\n",
       "</style>\n",
       "<table border=\"1\" class=\"dataframe\">\n",
       "  <thead>\n",
       "    <tr style=\"text-align: right;\">\n",
       "      <th></th>\n",
       "      <th>train_accuracy</th>\n",
       "      <th>test_accuracy</th>\n",
       "    </tr>\n",
       "  </thead>\n",
       "  <tbody>\n",
       "    <tr>\n",
       "      <td>KNN</td>\n",
       "      <td>79.166667</td>\n",
       "      <td>77.604167</td>\n",
       "    </tr>\n",
       "    <tr>\n",
       "      <td>LOGISTIC</td>\n",
       "      <td>78.125000</td>\n",
       "      <td>77.083333</td>\n",
       "    </tr>\n",
       "    <tr>\n",
       "      <td>DECISION TREE</td>\n",
       "      <td>77.256944</td>\n",
       "      <td>73.958333</td>\n",
       "    </tr>\n",
       "    <tr>\n",
       "      <td>RANDOM FOREST</td>\n",
       "      <td>80.034722</td>\n",
       "      <td>75.520833</td>\n",
       "    </tr>\n",
       "    <tr>\n",
       "      <td>GRADIANT BOOSTING</td>\n",
       "      <td>80.208333</td>\n",
       "      <td>77.604167</td>\n",
       "    </tr>\n",
       "    <tr>\n",
       "      <td>SVC</td>\n",
       "      <td>78.993056</td>\n",
       "      <td>79.687500</td>\n",
       "    </tr>\n",
       "  </tbody>\n",
       "</table>\n",
       "</div>"
      ],
      "text/plain": [
       "                   train_accuracy  test_accuracy\n",
       "KNN                     79.166667      77.604167\n",
       "LOGISTIC                78.125000      77.083333\n",
       "DECISION TREE           77.256944      73.958333\n",
       "RANDOM FOREST           80.034722      75.520833\n",
       "GRADIANT BOOSTING       80.208333      77.604167\n",
       "SVC                     78.993056      79.687500"
      ]
     },
     "execution_count": 74,
     "metadata": {},
     "output_type": "execute_result"
    }
   ],
   "source": [
    "evaluation"
   ]
  },
  {
   "cell_type": "code",
   "execution_count": null,
   "metadata": {},
   "outputs": [],
   "source": []
  }
 ],
 "metadata": {
  "kernelspec": {
   "display_name": "Python 3",
   "language": "python",
   "name": "python3"
  },
  "language_info": {
   "codemirror_mode": {
    "name": "ipython",
    "version": 3
   },
   "file_extension": ".py",
   "mimetype": "text/x-python",
   "name": "python",
   "nbconvert_exporter": "python",
   "pygments_lexer": "ipython3",
   "version": "3.7.4"
  }
 },
 "nbformat": 4,
 "nbformat_minor": 2
}
